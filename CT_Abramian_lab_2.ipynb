{
  "cells": [
    {
      "cell_type": "markdown",
      "metadata": {
        "id": "view-in-github"
      },
      "source": [
        "<a href=\"https://colab.research.google.com/github/Alexandr20i/Th_coding/blob/main/Th_coding_LR2_Belov_Vinogradov_Grigorev_Semenickhin.ipynb\" target=\"_parent\"><img src=\"https://colab.research.google.com/assets/colab-badge.svg\" alt=\"Open In Colab\"/></a>"
      ]
    },
    {
      "cell_type": "markdown",
      "source": [
        "#  Лабораторная работа №2"
      ],
      "metadata": {
        "id": "Ky1LeIXT20a7"
      }
    },
    {
      "cell_type": "code",
      "execution_count": 23,
      "outputs": [],
      "source": [
        "import  numpy as np"
      ],
      "metadata": {
        "ExecuteTime": {
          "start_time": "2024-10-28T23:47:04.284543Z",
          "end_time": "2024-10-28T23:47:04.448824Z"
        },
        "id": "w1RVJlXVc1gM"
      }
    },
    {
      "cell_type": "markdown",
      "source": [
        "# Часть 1"
      ],
      "metadata": {
        "collapsed": false,
        "id": "hEHO10xPc1gO"
      }
    },
    {
      "cell_type": "markdown",
      "source": [
        "## 2.1 Сформировать порождающую матрицу линейного кода (7, 4, 3)"
      ],
      "metadata": {
        "collapsed": false,
        "id": "KWGaFdiwc1gP"
      }
    },
    {
      "cell_type": "code",
      "source": [
        "# Заданные параметры\n",
        "n, k, d = 7, 4, 3\n",
        "\n",
        "# Создаем единичную матрицу I_k размером 4x4\n",
        "identity_matrix = np.eye(k, dtype=int)\n",
        "\n",
        "# Инициализация списка для хранения строк\n",
        "generated_rows = []\n",
        "\n",
        "# Генерация всех возможных строк длины d с двумя или более единицами\n",
        "for i in range(2 ** d):\n",
        "    # Преобразуем число в двоичное представление и создаем строку\n",
        "    binary_row = [(i >> j) & 1 for j in range(d)]\n",
        "    # Проверяем, что в строке как минимум две единицы\n",
        "    if sum(binary_row) >= 2:\n",
        "        generated_rows.append(binary_row)\n",
        "\n",
        "# Убираем дубликаты\n",
        "generated_rows = np.unique(generated_rows, axis=0)\n",
        "\n",
        "# Выбираем первые 4 уникальные строки\n",
        "selected_rows = generated_rows[:4]\n",
        "\n",
        "# Формируем порождающую матрицу G\n",
        "generator_matrix = np.hstack((identity_matrix, selected_rows))\n",
        "\n",
        "print(f'Порождающая матрица линейного кода (7, 4, 3):\\n{generator_matrix}')\n"
      ],
      "metadata": {
        "colab": {
          "base_uri": "https://localhost:8080/"
        },
        "id": "qRMY4RrCdZBj",
        "outputId": "b3bd89c4-c87e-43e4-e83c-f359fd293cc1"
      },
      "execution_count": 24,
      "outputs": [
        {
          "output_type": "stream",
          "name": "stdout",
          "text": [
            "Порождающая матрица линейного кода (7, 4, 3):\n",
            "[[1 0 0 0 0 1 1]\n",
            " [0 1 0 0 1 0 1]\n",
            " [0 0 1 0 1 1 0]\n",
            " [0 0 0 1 1 1 1]]\n"
          ]
        }
      ]
    },
    {
      "cell_type": "markdown",
      "source": [
        "## 2.2 Сформировать проверочную матрицу на основе порождающей"
      ],
      "metadata": {
        "collapsed": false,
        "id": "C7yvPv-Rc1gQ"
      }
    },
    {
      "cell_type": "code",
      "source": [
        "n_k = n - k  # Количество проверочных бит (3)\n",
        "\n",
        "# Создание единичной матрицы I_{n-k} размером 3x3\n",
        "I_n_k = np.eye(n_k, dtype=int)\n",
        "\n",
        "# Формирование проверочной матрицы H\n",
        "H = np.vstack((generated_rows, I_n_k))\n",
        "print(f'Проверочная матрица H:\\n{H}')"
      ],
      "metadata": {
        "colab": {
          "base_uri": "https://localhost:8080/"
        },
        "id": "ImSJTXo9e5GR",
        "outputId": "453c9d61-e0a7-4c24-a414-30e7bef842e0"
      },
      "execution_count": 25,
      "outputs": [
        {
          "output_type": "stream",
          "name": "stdout",
          "text": [
            "Проверочная матрица H:\n",
            "[[0 1 1]\n",
            " [1 0 1]\n",
            " [1 1 0]\n",
            " [1 1 1]\n",
            " [1 0 0]\n",
            " [0 1 0]\n",
            " [0 0 1]]\n"
          ]
        }
      ]
    },
    {
      "cell_type": "markdown",
      "source": [
        "## 2.3 Сформировать таблицу синдромов для всех однократных ошибок"
      ],
      "metadata": {
        "collapsed": false,
        "id": "IApHRaJCc1gQ"
      }
    },
    {
      "cell_type": "code",
      "source": [
        "def compute_syndrome(error_vector, parity_check_matrix):\n",
        "    # Вычисляет синдром для данного вектора ошибки и проверочной матрицы\n",
        "    syndrome = (error_vector @ parity_check_matrix) % 2\n",
        "    return tuple(syndrome)\n",
        "\n",
        "def generate_syndrome_table(parity_check_matrix):\n",
        "    # Создает таблицу синдромов для заданной проверочной матрицы\n",
        "    num_rows = parity_check_matrix.shape[0]\n",
        "    syndrome_map = {}\n",
        "\n",
        "    # Проходим по всем возможным позициям ошибок\n",
        "    for i in range(num_rows):\n",
        "        error_vector = np.zeros(num_rows, dtype=int)  # Создаем вектор ошибки с нулями\n",
        "        error_vector[i] = 1  # Вносим ошибку в i-ю позицию\n",
        "        syndrome = compute_syndrome(error_vector, parity_check_matrix)  # Вычисляем синдром\n",
        "        syndrome_map[syndrome] = tuple(error_vector)  # Сохраняем синдром и соответствующий вектор ошибки\n",
        "\n",
        "    return syndrome_map\n",
        "\n",
        "# Пример использования\n",
        "syndrome_table = generate_syndrome_table(H)\n",
        "print(\"Таблица синдромов для однократных ошибок:\")\n",
        "print(\"Синдром\\t\\tВектор ошибки\")\n",
        "for syndrome in syndrome_table:\n",
        "    print(f\"{syndrome}\\t{syndrome_table[syndrome]}\")\n"
      ],
      "metadata": {
        "colab": {
          "base_uri": "https://localhost:8080/"
        },
        "id": "HHxG5uG2kV2x",
        "outputId": "f1dca5cc-8123-41c4-d1a3-575b0f560f54"
      },
      "execution_count": 34,
      "outputs": [
        {
          "output_type": "stream",
          "name": "stdout",
          "text": [
            "Таблица синдромов для однократных ошибок:\n",
            "Синдром\t\tВектор ошибки\n",
            "(1, 1, 1, 1, 0)\t(1, 0, 0, 0, 0, 0, 0, 0, 0)\n",
            "(1, 1, 0, 0, 1)\t(0, 1, 0, 0, 0, 0, 0, 0, 0)\n",
            "(1, 0, 1, 0, 1)\t(0, 0, 1, 0, 0, 0, 0, 0, 0)\n",
            "(0, 1, 1, 0, 1)\t(0, 0, 0, 1, 0, 0, 0, 0, 0)\n",
            "(1, 0, 0, 0, 0)\t(0, 0, 0, 0, 1, 0, 0, 0, 0)\n",
            "(0, 1, 0, 0, 0)\t(0, 0, 0, 0, 0, 1, 0, 0, 0)\n",
            "(0, 0, 1, 0, 0)\t(0, 0, 0, 0, 0, 0, 1, 0, 0)\n",
            "(0, 0, 0, 1, 0)\t(0, 0, 0, 0, 0, 0, 0, 1, 0)\n",
            "(0, 0, 0, 0, 1)\t(0, 0, 0, 0, 0, 0, 0, 0, 1)\n"
          ]
        }
      ]
    },
    {
      "cell_type": "markdown",
      "source": [
        "## 2.4 Сформировать кодовое слово длины n из слова длины k. Внести однократную ошибку в сформированное слово. Вычислить синдром, исправить ошибку с использованием таблицы синдромов. Убедиться в правильности полученного слова\n"
      ],
      "metadata": {
        "collapsed": false,
        "id": "V_Yghh74c1gR"
      }
    },
    {
      "cell_type": "code",
      "source": [
        "def fix_errors(parity_check_matrix, received_word, syndrome_lookup):\n",
        "    # Исправляет ошибки в принятом кодовом слове с помощью таблицы синдромов.\n",
        "    # Вычисляем синдром для принятого слова\n",
        "    current_syndrome = tuple(np.dot(parity_check_matrix.T, received_word) % 2)\n",
        "\n",
        "    # Проверяем, есть ли синдром в таблице\n",
        "    if current_syndrome in syndrome_lookup:\n",
        "        error_pattern = np.array(syndrome_lookup[current_syndrome], dtype=int)  # Получаем вектор ошибок\n",
        "        corrected_word = (received_word + error_pattern) % 2  # Исправляем слово\n",
        "        return corrected_word, error_pattern  # Возвращаем исправленное слово и вектор ошибок\n",
        "\n",
        "    # Если синдром не найден, проверяем пары ошибок\n",
        "    num_bits = len(received_word)\n",
        "    for i in range(num_bits):\n",
        "        for j in range(i + 1, num_bits):  # Избегаем повторяющихся пар\n",
        "            # Создаем шаблон ошибки для текущей пары индексов\n",
        "            error_pattern = np.zeros(num_bits, dtype=int)\n",
        "            error_pattern[i] = 1  # Устанавливаем ошибку в i-ю позицию\n",
        "            error_pattern[j] = 1  # Устанавливаем ошибку в j-ю позицию\n",
        "\n",
        "            # Вычисляем новое слово и его синдром\n",
        "            modified_word = (received_word + error_pattern) % 2\n",
        "            new_syndrome = tuple(np.dot(parity_check_matrix.T, modified_word) % 2)\n",
        "\n",
        "            # Проверяем новый синдром\n",
        "            if new_syndrome in syndrome_lookup:\n",
        "                corrected_word = (received_word + error_pattern) % 2  # Исправляем слово\n",
        "                return corrected_word, error_pattern  # Возвращаем исправленное слово и вектор ошибок\n",
        "\n",
        "    # Если ошибки не обнаружены, возвращаем исходное слово\n",
        "    return received_word, None  # Возвращаем исходное слово и None для вектора ошибок"
      ],
      "metadata": {
        "id": "cTdZsnI6gqm5"
      },
      "execution_count": 35,
      "outputs": []
    },
    {
      "cell_type": "code",
      "source": [
        "original_msg = np.random.randint(0, 2, size=k)\n",
        "print(f\"Оригинальное сообщение: {original_msg}\")\n",
        "\n",
        "encoded_word =  np.dot(original_msg, G) % 2\n",
        "print(f\"Кодированное сообщение: {encoded_word}\")\n",
        "# внесем однократную ошибку\n",
        "pos = np.random.randint(len(encoded_word))\n",
        "corrupted_word = np.array([bit ^ (i == pos) for i, bit in enumerate(encoded_word)])\n",
        "print(f\"Сообщение с ошибкой в позиции {pos}: {corrupted_word}\")\n",
        "\n",
        "corrected_word, detected_error = fix_errors(H, corrupted_word, syndrome_table)\n",
        "\n",
        "if detected_error is not None:\n",
        "    print(f\"Обнаруженная ошибка: {detected_error}\")\n",
        "else:\n",
        "    print(\"Ошибки не обнаружено.\")\n",
        "\n",
        "print(f\"Исправленное сообщение: {corrected_word}\")\n",
        "\n",
        "print(f\"Проверка на равенство отправленного слова и полученного: {np.array_equal(original_msg, corrected_word[:k])}\")"
      ],
      "metadata": {
        "colab": {
          "base_uri": "https://localhost:8080/"
        },
        "id": "J-l1MCb6juBU",
        "outputId": "37d8acf8-9d0c-44b1-e0ba-b666f5448fe2"
      },
      "execution_count": 36,
      "outputs": [
        {
          "output_type": "stream",
          "name": "stdout",
          "text": [
            "Оригинальное сообщение: [0 1 0 0]\n",
            "Кодированное сообщение: [0 1 0 0 1 1 0 0 1]\n",
            "Сообщение с ошибкой в позиции 5: [0 1 0 0 1 0 0 0 1]\n",
            "Обнаруженная ошибка: [0 0 0 0 0 1 0 0 0]\n",
            "Исправленное сообщение: [0 1 0 0 1 1 0 0 1]\n",
            "Проверка на равенство отправленного слова и полученного: True\n"
          ]
        }
      ]
    },
    {
      "cell_type": "markdown",
      "source": [
        "## 2.5. Сформировать кодовое слово длины n из слова длины k. Внести двукратную ошибку в сформированное слово. Вычислить синдром, исправить ошибку с использованием таблицы синдромов. Убедиться, что полученное слово отличается от отправленного."
      ],
      "metadata": {
        "collapsed": false,
        "id": "PCtGbbO-c1gS"
      }
    },
    {
      "cell_type": "code",
      "execution_count": 37,
      "outputs": [
        {
          "output_type": "stream",
          "name": "stdout",
          "text": [
            "Оригинальное сообщение: [0 1 0 0]\n",
            "Кодированное сообщение: [0 1 0 0 1 1 0 0 1]\n",
            "Сообщение с ошибкой в позиции [7 1]: [0 0 0 0 1 1 0 1 1]\n",
            "Обнаруженная ошибка: [1 0 1 0 0 0 0 0 0]\n",
            "Исправленное сообщение: [1 0 1 0 1 1 0 1 1]\n",
            "Проверка на равенство отправленного слова и полученного: False\n"
          ]
        }
      ],
      "source": [
        "print(f\"Оригинальное сообщение: {original_msg}\")\n",
        "print(f\"Кодированное сообщение: {encoded_word}\")\n",
        "# внесем двукратную ошибку\n",
        "pos = np.random.choice(len(encoded_word), size=2, replace=False)\n",
        "corrupted_word = np.array([bit ^ (i in pos) for i, bit in enumerate(encoded_word)])\n",
        "print(f\"Сообщение с ошибкой в позиции {pos}: {corrupted_word}\")\n",
        "\n",
        "corrected_word, detected_error = fix_errors(H, corrupted_word, syndrome_table)\n",
        "\n",
        "if detected_error is not None:\n",
        "    print(f\"Обнаруженная ошибка: {detected_error}\")\n",
        "else:\n",
        "    print(\"Ошибки не обнаружено.\")\n",
        "\n",
        "print(f\"Исправленное сообщение: {corrected_word}\")\n",
        "\n",
        "print(f\"Проверка на равенство отправленного слова и полученного: {np.array_equal(original_msg, corrected_word[:k])}\")"
      ],
      "metadata": {
        "ExecuteTime": {
          "start_time": "2024-10-28T23:47:04.468996Z",
          "end_time": "2024-10-28T23:47:04.560157Z"
        },
        "id": "qgXnz5EYc1gT",
        "outputId": "16ebeb66-e61a-4b86-9042-829c32396529",
        "colab": {
          "base_uri": "https://localhost:8080/"
        }
      }
    },
    {
      "cell_type": "markdown",
      "source": [
        "# Часть 2"
      ],
      "metadata": {
        "collapsed": false,
        "id": "-8xDDgyLc1gT"
      }
    },
    {
      "cell_type": "markdown",
      "source": [
        "## 2.6. Сформировать порождающую матрицу линейного кода (n, k, 5)."
      ],
      "metadata": {
        "collapsed": false,
        "id": "DB2fSUyoc1gT"
      }
    },
    {
      "cell_type": "code",
      "source": [
        "# Параметры кода\n",
        "n = 9  # длина кодового слова\n",
        "k = 4  # длина информационного слова\n",
        "n_k = n - k\n",
        "# Примерная матрица P\n",
        "X = np.array([[1, 1, 1, 1, 0],\n",
        "              [1, 1, 0, 0, 1],\n",
        "              [1, 0, 1, 0, 1],\n",
        "              [0, 1, 1, 0, 1]])\n",
        "I_k = np.eye(k, dtype=int)\n",
        "G = np.hstack((I_k, X))\n",
        "print(\"Порождающая матрица G:\\n\", G)"
      ],
      "metadata": {
        "colab": {
          "base_uri": "https://localhost:8080/"
        },
        "id": "raXJgJOHn8OT",
        "outputId": "cf3d5a9d-700d-4c95-bd8d-9a88223c6940"
      },
      "execution_count": 38,
      "outputs": [
        {
          "output_type": "stream",
          "name": "stdout",
          "text": [
            "Порождающая матрица G:\n",
            " [[1 0 0 0 1 1 1 1 0]\n",
            " [0 1 0 0 1 1 0 0 1]\n",
            " [0 0 1 0 1 0 1 0 1]\n",
            " [0 0 0 1 0 1 1 0 1]]\n"
          ]
        }
      ]
    },
    {
      "cell_type": "markdown",
      "source": [
        "## 2.7 Сформировать проверочную матрицу на основе порождающей."
      ],
      "metadata": {
        "collapsed": false,
        "id": "LdWqvgojc1gU"
      }
    },
    {
      "cell_type": "code",
      "execution_count": 39,
      "outputs": [
        {
          "output_type": "stream",
          "name": "stdout",
          "text": [
            "Проверочная матрица H:\n",
            "[[1 1 1 1 0]\n",
            " [1 1 0 0 1]\n",
            " [1 0 1 0 1]\n",
            " [0 1 1 0 1]\n",
            " [1 0 0 0 0]\n",
            " [0 1 0 0 0]\n",
            " [0 0 1 0 0]\n",
            " [0 0 0 1 0]\n",
            " [0 0 0 0 1]]\n"
          ]
        }
      ],
      "source": [
        "n_k = n - k  # Количество проверочных бит (3)\n",
        "\n",
        "# Создание единичной матрицы I_{n-k} размером 3x3\n",
        "I_n_k = np.eye(n_k, dtype=int)\n",
        "\n",
        "# Формирование проверочной матрицы H\n",
        "H = np.vstack((X, I_n_k))\n",
        "print(f'Проверочная матрица H:\\n{H}')"
      ],
      "metadata": {
        "ExecuteTime": {
          "start_time": "2024-10-28T23:47:04.483274Z",
          "end_time": "2024-10-28T23:47:04.561113Z"
        },
        "id": "HH7UL5klc1gU",
        "outputId": "165e08a7-96f9-4f74-ffdb-64ccec3ad2ef",
        "colab": {
          "base_uri": "https://localhost:8080/"
        }
      }
    },
    {
      "cell_type": "markdown",
      "source": [
        "## 2.8 Сформировать таблицу синдромов для всех однократных и двукратных ошибок."
      ],
      "metadata": {
        "collapsed": false,
        "id": "yH5d6Mcmc1gU"
      }
    },
    {
      "cell_type": "code",
      "execution_count": 40,
      "outputs": [
        {
          "output_type": "stream",
          "name": "stdout",
          "text": [
            "Таблица синдромов для однократных и двухкратных ошибок:\n",
            "Синдром\t\t\tВектор ошибки\n",
            "(1, 1, 1, 1, 0)\t\t(1, 0, 0, 0, 0, 0, 0, 0, 0)\n",
            "(1, 1, 0, 0, 1)\t\t(0, 1, 0, 0, 0, 0, 0, 0, 0)\n",
            "(1, 0, 1, 0, 1)\t\t(0, 0, 1, 0, 0, 0, 0, 0, 0)\n",
            "(0, 1, 1, 0, 1)\t\t(0, 0, 0, 1, 0, 0, 0, 0, 0)\n",
            "(1, 0, 0, 0, 0)\t\t(0, 0, 0, 0, 1, 0, 0, 0, 0)\n",
            "(0, 1, 0, 0, 0)\t\t(0, 0, 0, 0, 0, 1, 0, 0, 0)\n",
            "(0, 0, 1, 0, 0)\t\t(0, 0, 0, 0, 0, 0, 1, 0, 0)\n",
            "(0, 0, 0, 1, 0)\t\t(0, 0, 0, 0, 0, 0, 0, 1, 0)\n",
            "(0, 0, 0, 0, 1)\t\t(0, 0, 0, 0, 0, 0, 0, 0, 1)\n",
            "(0, 0, 1, 1, 1)\t\t(1, 1, 0, 0, 0, 0, 0, 0, 0)\n",
            "(0, 1, 0, 1, 1)\t\t(1, 0, 1, 0, 0, 0, 0, 0, 0)\n",
            "(1, 0, 0, 1, 1)\t\t(1, 0, 0, 1, 0, 0, 0, 0, 0)\n",
            "(0, 1, 1, 1, 0)\t\t(1, 0, 0, 0, 1, 0, 0, 0, 0)\n",
            "(1, 0, 1, 1, 0)\t\t(1, 0, 0, 0, 0, 1, 0, 0, 0)\n",
            "(1, 1, 0, 1, 0)\t\t(1, 0, 0, 0, 0, 0, 1, 0, 0)\n",
            "(1, 1, 1, 0, 0)\t\t(1, 0, 0, 0, 0, 0, 0, 1, 0)\n",
            "(1, 1, 1, 1, 1)\t\t(1, 0, 0, 0, 0, 0, 0, 0, 1)\n",
            "(0, 1, 1, 0, 0)\t\t(0, 0, 0, 0, 0, 1, 1, 0, 0)\n",
            "(1, 0, 1, 0, 0)\t\t(0, 0, 0, 0, 1, 0, 1, 0, 0)\n",
            "(0, 1, 0, 0, 1)\t\t(0, 0, 0, 0, 0, 1, 0, 0, 1)\n",
            "(1, 0, 0, 0, 1)\t\t(0, 0, 0, 0, 1, 0, 0, 0, 1)\n",
            "(1, 1, 1, 0, 1)\t\t(0, 0, 0, 1, 1, 0, 0, 0, 0)\n",
            "(1, 1, 0, 1, 1)\t\t(0, 1, 0, 0, 0, 0, 0, 1, 0)\n",
            "(1, 1, 0, 0, 0)\t\t(0, 0, 0, 0, 1, 1, 0, 0, 0)\n",
            "(0, 0, 1, 0, 1)\t\t(0, 0, 0, 0, 0, 0, 1, 0, 1)\n",
            "(1, 0, 1, 1, 1)\t\t(0, 0, 1, 0, 0, 0, 0, 1, 0)\n",
            "(0, 1, 1, 1, 1)\t\t(0, 0, 0, 1, 0, 0, 0, 1, 0)\n",
            "(1, 0, 0, 1, 0)\t\t(0, 0, 0, 0, 1, 0, 0, 1, 0)\n",
            "(0, 1, 0, 1, 0)\t\t(0, 0, 0, 0, 0, 1, 0, 1, 0)\n",
            "(0, 0, 1, 1, 0)\t\t(0, 0, 0, 0, 0, 0, 1, 1, 0)\n",
            "(0, 0, 0, 1, 1)\t\t(0, 0, 0, 0, 0, 0, 0, 1, 1)\n"
          ]
        }
      ],
      "source": [
        "def build_syndrome_table(H):\n",
        "    n = H.shape[1]  # Количество столбцов (размер кодового слова)\n",
        "\n",
        "    syndromes = {}\n",
        "\n",
        "    # Однократные ошибки\n",
        "    for i in range(n):\n",
        "        error_vec = np.zeros(n, dtype=int)\n",
        "        error_vec[i] = 1\n",
        "        S = calculate_syndrome(error_vec, H.T)\n",
        "        syndromes[S] = tuple(error_vec)\n",
        "\n",
        "    # Двукратные ошибки\n",
        "    for i in range(n):\n",
        "        for j in range(i + 1, n):\n",
        "            error_vec = np.zeros(n, dtype=int)\n",
        "            error_vec[i] = 1\n",
        "            error_vec[j] = 1\n",
        "            S = calculate_syndrome(error_vec, H.T)\n",
        "            syndromes[S] = tuple(error_vec)\n",
        "\n",
        "    return syndromes\n",
        "\n",
        "print(\"Таблица синдромов для однократных и двухкратных ошибок:\")\n",
        "syndrome_table = build_syndrome_table(H.T)\n",
        "print(\"Синдром\\t\\t\\tВектор ошибки\")\n",
        "for syndrome in syndrome_table:\n",
        "    print(f\"{syndrome}\\t\\t{syndrome_table[syndrome]}\")\n"
      ],
      "metadata": {
        "ExecuteTime": {
          "start_time": "2024-10-28T23:47:04.487121Z",
          "end_time": "2024-10-28T23:47:04.561278Z"
        },
        "id": "SUZeJGGDc1gU",
        "outputId": "1e24d714-9e14-4472-d55e-911a5ee1942e",
        "colab": {
          "base_uri": "https://localhost:8080/"
        }
      }
    },
    {
      "cell_type": "markdown",
      "source": [
        "## 2.9. Сформировать кодовое слово длины n из слова длины k. Внести однократную ошибку в сформированное слово. Вычислить синдром, исправить ошибку с использованием таблицы синдромов. Убедиться в правильности полученного слова."
      ],
      "metadata": {
        "collapsed": false,
        "id": "msWpd8R6c1gU"
      }
    },
    {
      "cell_type": "code",
      "source": [
        "original_msg = np.random.randint(0, 2, size=k)\n",
        "print(f\"Оригинальное сообщение: {original_msg}\")\n",
        "\n",
        "encoded_word =  np.dot(original_msg, G) % 2\n",
        "print(f\"Кодированное сообщение: {encoded_word}\")\n",
        "# внесем однократную ошибку\n",
        "pos = np.random.randint(len(encoded_word))\n",
        "corrupted_word = np.array([bit ^ (i == pos) for i, bit in enumerate(encoded_word)])\n",
        "print(f\"Сообщение с ошибкой в позиции {pos}: {corrupted_word}\")\n",
        "\n",
        "corrected_word, detected_error = fix_errors(H, corrupted_word, syndrome_table)\n",
        "\n",
        "if detected_error is not None:\n",
        "    print(f\"Обнаруженная ошибка: {detected_error}\")\n",
        "else:\n",
        "    print(\"Ошибки не обнаружено.\")\n",
        "\n",
        "print(f\"Исправленное сообщение: {corrected_word}\")\n",
        "\n",
        "print(f\"Проверка на равенство отправленного слова и полученного: {np.array_equal(original_msg, corrected_word[:k])}\")"
      ],
      "metadata": {
        "colab": {
          "base_uri": "https://localhost:8080/"
        },
        "id": "nFoa4IBbrFyW",
        "outputId": "c14ebff7-bd79-46d1-c549-79df4617cc6e"
      },
      "execution_count": 41,
      "outputs": [
        {
          "output_type": "stream",
          "name": "stdout",
          "text": [
            "Оригинальное сообщение: [0 1 0 1]\n",
            "Кодированное сообщение: [0 1 0 1 1 0 1 0 0]\n",
            "Сообщение с ошибкой в позиции 0: [1 1 0 1 1 0 1 0 0]\n",
            "Обнаруженная ошибка: [1 0 0 0 0 0 0 0 0]\n",
            "Исправленное сообщение: [0 1 0 1 1 0 1 0 0]\n",
            "Проверка на равенство отправленного слова и полученного: True\n"
          ]
        }
      ]
    },
    {
      "cell_type": "markdown",
      "source": [
        "## 2.10. Сформировать кодовое слово длины n из слова длины k. Внести двукратную ошибку в сформированное слово. Вычислить синдром, исправить ошибку с использованием таблицы синдромов. Убедиться в правильности полученного слова."
      ],
      "metadata": {
        "collapsed": false,
        "id": "046yiaG9c1gV"
      }
    },
    {
      "cell_type": "code",
      "execution_count": 42,
      "outputs": [
        {
          "output_type": "stream",
          "name": "stdout",
          "text": [
            "Оригинальное сообщение: [0 1 0 1]\n",
            "Кодированное сообщение: [0 1 0 1 1 0 1 0 0]\n",
            "Сообщение с ошибкой в позиции [8 1]: [0 0 0 1 1 0 1 0 1]\n",
            "Обнаруженная ошибка: [0 0 0 0 1 1 0 0 0]\n",
            "Исправленное сообщение: [0 0 0 1 0 1 1 0 1]\n",
            "Проверка на равенство отправленного слова и полученного: False\n"
          ]
        }
      ],
      "source": [
        "print(f\"Оригинальное сообщение: {original_msg}\")\n",
        "print(f\"Кодированное сообщение: {encoded_word}\")\n",
        "# внесем двукратную ошибку\n",
        "pos = np.random.choice(len(encoded_word), size=2, replace=False)\n",
        "corrupted_word = np.array([bit ^ (i in pos) for i, bit in enumerate(encoded_word)])\n",
        "print(f\"Сообщение с ошибкой в позиции {pos}: {corrupted_word}\")\n",
        "\n",
        "corrected_word, detected_error = fix_errors(H, corrupted_word, syndrome_table)\n",
        "\n",
        "if detected_error is not None:\n",
        "    print(f\"Обнаруженная ошибка: {detected_error}\")\n",
        "else:\n",
        "    print(\"Ошибки не обнаружено.\")\n",
        "\n",
        "print(f\"Исправленное сообщение: {corrected_word}\")\n",
        "\n",
        "print(f\"Проверка на равенство отправленного слова и полученного: {np.array_equal(original_msg, corrected_word[:k])}\")"
      ],
      "metadata": {
        "ExecuteTime": {
          "start_time": "2024-10-28T23:47:04.498157Z",
          "end_time": "2024-10-28T23:47:04.561495Z"
        },
        "id": "4NUGE8Buc1gV",
        "outputId": "84ede1a1-a474-4e70-fa05-4fbb1a69b9a3",
        "colab": {
          "base_uri": "https://localhost:8080/"
        }
      }
    },
    {
      "cell_type": "markdown",
      "source": [
        "## 2.11. Сформировать кодовое слово длины n из слова длины k. Внести трёхкратную ошибку в сформированное слово. Вычислить синдром, исправить ошибку с использованием таблицы синдромов. Убедиться, что полученное слово отличается от отправленного."
      ],
      "metadata": {
        "collapsed": false,
        "id": "CdeIM4erc1gV"
      }
    },
    {
      "cell_type": "code",
      "execution_count": 43,
      "outputs": [
        {
          "output_type": "stream",
          "name": "stdout",
          "text": [
            "Оригинальное сообщение: [0 1 0 1]\n",
            "Кодированное сообщение: [0 1 0 1 1 0 1 0 0]\n",
            "Сообщение с ошибкой в позиции [4 3 5]: [0 1 0 0 0 1 1 0 0]\n",
            "Обнаруженная ошибка: [0 0 1 0 0 0 0 0 0]\n",
            "Исправленное сообщение: [0 1 1 0 0 1 1 0 0]\n",
            "Проверка на равенство отправленного слова и полученного: False\n"
          ]
        }
      ],
      "source": [
        "print(f\"Оригинальное сообщение: {original_msg}\")\n",
        "print(f\"Кодированное сообщение: {encoded_word}\")\n",
        "# внесем трехкратную ошибку\n",
        "pos = np.random.choice(len(encoded_word), size=3, replace=False)\n",
        "corrupted_word = np.array([bit ^ (i in pos) for i, bit in enumerate(encoded_word)])\n",
        "print(f\"Сообщение с ошибкой в позиции {pos}: {corrupted_word}\")\n",
        "\n",
        "corrected_word, detected_error = fix_errors(H, corrupted_word, syndrome_table)\n",
        "\n",
        "if detected_error is not None:\n",
        "    print(f\"Обнаруженная ошибка: {detected_error}\")\n",
        "else:\n",
        "    print(\"Ошибки не обнаружено.\")\n",
        "\n",
        "print(f\"Исправленное сообщение: {corrected_word}\")\n",
        "\n",
        "print(f\"Проверка на равенство отправленного слова и полученного: {np.array_equal(original_msg, corrected_word[:k])}\")"
      ],
      "metadata": {
        "ExecuteTime": {
          "start_time": "2024-10-28T23:47:04.506802Z",
          "end_time": "2024-10-28T23:47:04.561574Z"
        },
        "id": "UWMKP6oVc1gV",
        "outputId": "1a0ee8bd-15f0-4876-a09f-b3528eb91b03",
        "colab": {
          "base_uri": "https://localhost:8080/"
        }
      }
    }
  ],
  "metadata": {
    "kernelspec": {
      "display_name": "Python 3",
      "language": "python",
      "name": "python3"
    },
    "language_info": {
      "codemirror_mode": {
        "name": "ipython",
        "version": 2
      },
      "file_extension": ".py",
      "mimetype": "text/x-python",
      "name": "python",
      "nbconvert_exporter": "python",
      "pygments_lexer": "ipython2",
      "version": "2.7.6"
    },
    "colab": {
      "provenance": []
    }
  },
  "nbformat": 4,
  "nbformat_minor": 0
}