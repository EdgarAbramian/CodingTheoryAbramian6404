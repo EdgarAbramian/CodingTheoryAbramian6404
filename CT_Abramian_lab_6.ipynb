{
  "cells": [
    {
      "cell_type": "markdown",
      "metadata": {
        "id": "view-in-github",
        "colab_type": "text"
      },
      "source": [
        "<a href=\"https://colab.research.google.com/github/Alexandr20i/Th_coding/blob/main/Th_coding_LR6_Belov_Vinogradov_Grigorev_Semenickhin.ipynb\" target=\"_parent\"><img src=\"https://colab.research.google.com/assets/colab-badge.svg\" alt=\"Open In Colab\"/></a>"
      ]
    },
    {
      "cell_type": "markdown",
      "metadata": {
        "id": "RWks-PXbtJVc"
      },
      "source": [
        "#  Лабораторная работа №6\n",
        "\n",
        "\n"
      ]
    },
    {
      "cell_type": "code",
      "execution_count": 37,
      "metadata": {
        "id": "9HklX098tA5P"
      },
      "outputs": [],
      "source": [
        "import numpy as np\n",
        "import itertools as iter"
      ]
    },
    {
      "cell_type": "markdown",
      "metadata": {
        "id": "6R4lPgd4tYEu"
      },
      "source": [
        "## 6.1 Написать функции кодирования и декодирования для циклического кода (7,4) с порождающим многочленом 𝑔(𝑥) = 1 + $x^2$ + $x^2$, исправляющего однократные ошибки и провести исследование этого кода для одно-, двух- и трёхкратных ошибок."
      ]
    },
    {
      "cell_type": "code",
      "execution_count": 38,
      "metadata": {
        "id": "IYWdkdibvS8Z"
      },
      "outputs": [],
      "source": [
        "def generate_G_matrix_matrix(n, m, g_x) :\n",
        "    G_matrix = np.zeros((m, n), dtype=int)\n",
        "    for i in range(m) :\n",
        "        G_matrix[i, i :  i + g_x.size] = g_x\n",
        "    for i in range(1, m) :\n",
        "        for j in range(i) :\n",
        "            if G_matrix[j][i] == 1 :\n",
        "                G_matrix[j] ^= G_matrix[i]\n",
        "    return G_matrix"
      ]
    },
    {
      "cell_type": "code",
      "execution_count": 39,
      "metadata": {
        "id": "uL5zsbNVvUmI"
      },
      "outputs": [],
      "source": [
        "def vec_to_num(v) :\n",
        "    return (np.asarray([2 ** i for i in range(v.size)]) * v).sum()"
      ]
    },
    {
      "cell_type": "code",
      "execution_count": 40,
      "metadata": {
        "id": "Ff_gYBRlvWRT"
      },
      "outputs": [],
      "source": [
        "def find_remainder(bin_pol_num_1, bin_pol_num_2, n, m) :\n",
        "    bin_pol_num_2 <<= m\n",
        "    for i in range(1, m + 1) :\n",
        "        bin_pol_num_2 >>= 1\n",
        "        if bin_pol_num_1 >= 1 << (n - i) :\n",
        "            bin_pol_num_1 ^= bin_pol_num_2\n",
        "    return bin_pol_num_1\n"
      ]
    },
    {
      "cell_type": "code",
      "execution_count": 41,
      "metadata": {
        "id": "Tf2Z_twgva9J"
      },
      "outputs": [],
      "source": [
        "def deencoded_data_word_data_word(w, m, t, g_x_num) :\n",
        "    n = w.size\n",
        "    w_num = vec_to_num(w)\n",
        "    w_num = find_remainder(w_num, g_x_num, n, m)\n",
        "    if w_num == 0 :\n",
        "        return w.copy()[ : m]\n",
        "    k = 0\n",
        "    while k > -n :\n",
        "        if w_num < 1 << t and w_num % 2 == 1 :   #\n",
        "            break\n",
        "        w_num <<= 1\n",
        "        if w_num >= 1 << (n - m) :\n",
        "            w_num ^= g_x_num\n",
        "        k -= 1\n",
        "    w_fix = w.copy()\n",
        "    while w_num != 0 :\n",
        "        if w_num % 2 == 1 :\n",
        "            w_fix[k] ^= 1\n",
        "        k += 1\n",
        "        w_num >>= 1\n",
        "    return w_fix[ : m]"
      ]
    },
    {
      "cell_type": "code",
      "execution_count": 42,
      "metadata": {
        "colab": {
          "base_uri": "https://localhost:8080/"
        },
        "id": "8J_f8g1IvdDb",
        "outputId": "92069e6d-e6d1-4224-8828-c3233bf52b48"
      },
      "outputs": [
        {
          "output_type": "execute_result",
          "data": {
            "text/plain": [
              "13"
            ]
          },
          "metadata": {},
          "execution_count": 42
        }
      ],
      "source": [
        "n = 7\n",
        "m = 4\n",
        "t = 1\n",
        "g_x = np.asarray([1, 0, 1, 1])\n",
        "g_x_num = vec_to_num(g_x)\n",
        "g_x_num"
      ]
    },
    {
      "cell_type": "code",
      "execution_count": 43,
      "metadata": {
        "colab": {
          "base_uri": "https://localhost:8080/"
        },
        "id": "Qo16M-zRvetZ",
        "outputId": "654c0afb-38a7-4ec6-b1b8-b3d450f66bcf"
      },
      "outputs": [
        {
          "output_type": "execute_result",
          "data": {
            "text/plain": [
              "array([[1, 0, 0, 0, 1, 0, 1],\n",
              "       [0, 1, 0, 0, 1, 1, 1],\n",
              "       [0, 0, 1, 0, 1, 1, 0],\n",
              "       [0, 0, 0, 1, 0, 1, 1]])"
            ]
          },
          "metadata": {},
          "execution_count": 43
        }
      ],
      "source": [
        "G_matrix = generate_G_matrix_matrix(n, m, g_x)\n",
        "G_matrix"
      ]
    },
    {
      "cell_type": "code",
      "execution_count": 44,
      "metadata": {
        "colab": {
          "base_uri": "https://localhost:8080/"
        },
        "id": "dm3NyF_awGdi",
        "outputId": "4381d87a-aef2-4094-d11e-431478b9c19d"
      },
      "outputs": [
        {
          "output_type": "execute_result",
          "data": {
            "text/plain": [
              "array([1, 0, 0, 1, 1, 1, 0])"
            ]
          },
          "metadata": {},
          "execution_count": 44
        }
      ],
      "source": [
        "data_word = np.asarray([1, 0, 0, 1])\n",
        "v = np.matmul(data_word, G_matrix) % 2\n",
        "v"
      ]
    },
    {
      "cell_type": "code",
      "execution_count": 45,
      "metadata": {
        "id": "93lfhAOEwIcP"
      },
      "outputs": [],
      "source": [
        "err2 = np.zeros_like(v, dtype=int)\n",
        "err2[1] = err2[2] = 1\n",
        "err3 = err2.copy()\n",
        "err3[3] = 1"
      ]
    },
    {
      "cell_type": "code",
      "execution_count": 46,
      "metadata": {
        "colab": {
          "base_uri": "https://localhost:8080/"
        },
        "id": "wCpKjxGcwKDU",
        "outputId": "dab7cbcf-0ed0-4c50-8135-802f65fe00bb"
      },
      "outputs": [
        {
          "output_type": "execute_result",
          "data": {
            "text/plain": [
              "[array([0, 0, 0, 1, 1, 1, 0]),\n",
              " array([1, 1, 0, 1, 1, 1, 0]),\n",
              " array([1, 0, 1, 1, 1, 1, 0]),\n",
              " array([1, 0, 0, 0, 1, 1, 0]),\n",
              " array([1, 0, 0, 1, 0, 1, 0]),\n",
              " array([1, 0, 0, 1, 1, 0, 0]),\n",
              " array([1, 0, 0, 1, 1, 1, 1])]"
            ]
          },
          "metadata": {},
          "execution_count": 46
        }
      ],
      "source": [
        "w_err2 = v ^ err2\n",
        "w_err3 = v ^ err3\n",
        "w_err1_array = [v.copy() ^ err1 for err1 in np.eye(n, dtype=int)]\n",
        "w_err1_array"
      ]
    },
    {
      "cell_type": "code",
      "execution_count": 47,
      "metadata": {
        "colab": {
          "base_uri": "https://localhost:8080/"
        },
        "id": "qf9ZfwpZwMeD",
        "outputId": "accef317-3588-4862-ee26-6d2e6998592c"
      },
      "outputs": [
        {
          "output_type": "execute_result",
          "data": {
            "text/plain": [
              "True"
            ]
          },
          "metadata": {},
          "execution_count": 47
        }
      ],
      "source": [
        "dec_data_word = deencoded_data_word_data_word(v, m, t, g_x_num)\n",
        "np.array_equal(dec_data_word, data_word)"
      ]
    },
    {
      "cell_type": "code",
      "execution_count": 48,
      "metadata": {
        "colab": {
          "base_uri": "https://localhost:8080/"
        },
        "id": "eEEWV6P6wOT9",
        "outputId": "b4f11da5-913b-4029-f9b3-02ebb889d72a"
      },
      "outputs": [
        {
          "output_type": "stream",
          "name": "stdout",
          "text": [
            "True\n",
            "True\n",
            "True\n",
            "True\n",
            "True\n",
            "True\n",
            "True\n"
          ]
        }
      ],
      "source": [
        "for w in w_err1_array :\n",
        "    dec_data_word = deencoded_data_word_data_word(w, m, t, g_x_num)\n",
        "    print(np.array_equal(dec_data_word, data_word))"
      ]
    },
    {
      "cell_type": "code",
      "execution_count": 49,
      "metadata": {
        "colab": {
          "base_uri": "https://localhost:8080/"
        },
        "id": "b5Zl0O0GwP0A",
        "outputId": "d7d10ec5-877a-4df3-9352-a37f43c2cbdb"
      },
      "outputs": [
        {
          "output_type": "execute_result",
          "data": {
            "text/plain": [
              "False"
            ]
          },
          "metadata": {},
          "execution_count": 49
        }
      ],
      "source": [
        "dec_data_word = deencoded_data_word_data_word(w_err2, m, t, g_x_num)\n",
        "np.array_equal(dec_data_word, data_word)"
      ]
    },
    {
      "cell_type": "code",
      "execution_count": 50,
      "metadata": {
        "colab": {
          "base_uri": "https://localhost:8080/"
        },
        "id": "m3CuURCzwScB",
        "outputId": "f0605434-7660-4eee-d807-1eb557f8e5aa"
      },
      "outputs": [
        {
          "output_type": "execute_result",
          "data": {
            "text/plain": [
              "False"
            ]
          },
          "metadata": {},
          "execution_count": 50
        }
      ],
      "source": [
        "dec_data_word = deencoded_data_word_data_word(w_err3, m, t, g_x_num)\n",
        "np.array_equal(dec_data_word, data_word)"
      ]
    },
    {
      "cell_type": "markdown",
      "metadata": {
        "id": "z8tCNTAvusij"
      },
      "source": [
        "## 6.2 Написать функции кодирования и декодирования для циклического кода (15,9) с порождающим многочленом 𝑔(𝑥) = 1 + $x^3$ + $x^4$ + $x^5$ + $x^6$,исправляющего пакеты ошибок кратности 3 и провести исследование этого кода для пакетов ошибок длины 1, 2, 3 и 4.\n",
        "Обратите внимание, что пакет ошибок длины t не означает, что все разряды в пределах этого пакета изменятся (см. лекции)."
      ]
    },
    {
      "cell_type": "code",
      "execution_count": 51,
      "metadata": {
        "colab": {
          "base_uri": "https://localhost:8080/"
        },
        "id": "O-N1QOcZwXJ8",
        "outputId": "92ad060c-93ed-4c51-96d6-d3b2f290e797"
      },
      "outputs": [
        {
          "output_type": "execute_result",
          "data": {
            "text/plain": [
              "79"
            ]
          },
          "metadata": {},
          "execution_count": 51
        }
      ],
      "source": [
        "n = 15\n",
        "m = 9\n",
        "t = 3\n",
        "g_x = np.asarray([1, 1, 1, 1, 0, 0, 1])\n",
        "g_x_num = vec_to_num(g_x)\n",
        "g_x_num"
      ]
    },
    {
      "cell_type": "code",
      "execution_count": 52,
      "metadata": {
        "colab": {
          "base_uri": "https://localhost:8080/"
        },
        "id": "qbaqGaZUwZM8",
        "outputId": "c7753d39-3c34-423b-aa3e-da8e12e09a80"
      },
      "outputs": [
        {
          "output_type": "execute_result",
          "data": {
            "text/plain": [
              "array([[1, 0, 0, 0, 0, 0, 0, 0, 0, 1, 1, 1, 1, 0, 0],\n",
              "       [0, 1, 0, 0, 0, 0, 0, 0, 0, 0, 1, 1, 1, 1, 0],\n",
              "       [0, 0, 1, 0, 0, 0, 0, 0, 0, 0, 0, 1, 1, 1, 1],\n",
              "       [0, 0, 0, 1, 0, 0, 0, 0, 0, 1, 1, 1, 0, 1, 1],\n",
              "       [0, 0, 0, 0, 1, 0, 0, 0, 0, 1, 0, 0, 0, 0, 1],\n",
              "       [0, 0, 0, 0, 0, 1, 0, 0, 0, 1, 0, 1, 1, 0, 0],\n",
              "       [0, 0, 0, 0, 0, 0, 1, 0, 0, 0, 1, 0, 1, 1, 0],\n",
              "       [0, 0, 0, 0, 0, 0, 0, 1, 0, 0, 0, 1, 0, 1, 1],\n",
              "       [0, 0, 0, 0, 0, 0, 0, 0, 1, 1, 1, 1, 0, 0, 1]])"
            ]
          },
          "metadata": {},
          "execution_count": 52
        }
      ],
      "source": [
        "G_matrix = generate_G_matrix_matrix(n, m, g_x)\n",
        "G_matrix"
      ]
    },
    {
      "cell_type": "code",
      "execution_count": 53,
      "metadata": {
        "colab": {
          "base_uri": "https://localhost:8080/"
        },
        "id": "62CFg9qiwbL7",
        "outputId": "38f666ad-efbe-411f-83fc-314ac7c32629"
      },
      "outputs": [
        {
          "output_type": "execute_result",
          "data": {
            "text/plain": [
              "array([1, 1, 1, 0, 0, 0, 0, 0, 0, 1, 0, 1, 1, 0, 1])"
            ]
          },
          "metadata": {},
          "execution_count": 53
        }
      ],
      "source": [
        "data_word = np.asarray([1, 1, 1, 0, 0, 0, 0, 0, 0])\n",
        "v = np.matmul(data_word, G_matrix) % 2\n",
        "v"
      ]
    },
    {
      "cell_type": "code",
      "execution_count": 54,
      "metadata": {
        "id": "-wW_oquxwcpa"
      },
      "outputs": [],
      "source": [
        "err2 = np.zeros_like(v, dtype=int)\n",
        "err2[1] = err2[2] = 1\n",
        "err3 = err2.copy()\n",
        "err3[3] = 1\n",
        "err4 = np.zeros_like(v, dtype=int)\n",
        "err4[6] = err4[7] = err4[9] = 1"
      ]
    },
    {
      "cell_type": "code",
      "execution_count": 55,
      "metadata": {
        "colab": {
          "base_uri": "https://localhost:8080/"
        },
        "id": "qE53dXRewe12",
        "outputId": "38405b7f-9bfc-48de-f771-23e66ec88059"
      },
      "outputs": [
        {
          "output_type": "execute_result",
          "data": {
            "text/plain": [
              "[array([0, 1, 1, 0, 0, 0, 0, 0, 0, 1, 0, 1, 1, 0, 1]),\n",
              " array([1, 0, 1, 0, 0, 0, 0, 0, 0, 1, 0, 1, 1, 0, 1]),\n",
              " array([1, 1, 0, 0, 0, 0, 0, 0, 0, 1, 0, 1, 1, 0, 1]),\n",
              " array([1, 1, 1, 1, 0, 0, 0, 0, 0, 1, 0, 1, 1, 0, 1]),\n",
              " array([1, 1, 1, 0, 1, 0, 0, 0, 0, 1, 0, 1, 1, 0, 1]),\n",
              " array([1, 1, 1, 0, 0, 1, 0, 0, 0, 1, 0, 1, 1, 0, 1]),\n",
              " array([1, 1, 1, 0, 0, 0, 1, 0, 0, 1, 0, 1, 1, 0, 1]),\n",
              " array([1, 1, 1, 0, 0, 0, 0, 1, 0, 1, 0, 1, 1, 0, 1]),\n",
              " array([1, 1, 1, 0, 0, 0, 0, 0, 1, 1, 0, 1, 1, 0, 1]),\n",
              " array([1, 1, 1, 0, 0, 0, 0, 0, 0, 0, 0, 1, 1, 0, 1]),\n",
              " array([1, 1, 1, 0, 0, 0, 0, 0, 0, 1, 1, 1, 1, 0, 1]),\n",
              " array([1, 1, 1, 0, 0, 0, 0, 0, 0, 1, 0, 0, 1, 0, 1]),\n",
              " array([1, 1, 1, 0, 0, 0, 0, 0, 0, 1, 0, 1, 0, 0, 1]),\n",
              " array([1, 1, 1, 0, 0, 0, 0, 0, 0, 1, 0, 1, 1, 1, 1]),\n",
              " array([1, 1, 1, 0, 0, 0, 0, 0, 0, 1, 0, 1, 1, 0, 0])]"
            ]
          },
          "metadata": {},
          "execution_count": 55
        }
      ],
      "source": [
        "w_err2 = v ^ err2\n",
        "w_err3 = v ^ err3\n",
        "w_err4 = v ^ err4\n",
        "w_err1_array = [v.copy() ^ err1 for err1 in np.eye(n, dtype=int)]\n",
        "w_err1_array"
      ]
    },
    {
      "cell_type": "code",
      "execution_count": 56,
      "metadata": {
        "colab": {
          "base_uri": "https://localhost:8080/"
        },
        "id": "b90OgYlKwgeS",
        "outputId": "3e7f0301-ee2f-4198-ace9-4063b86baf73"
      },
      "outputs": [
        {
          "output_type": "execute_result",
          "data": {
            "text/plain": [
              "True"
            ]
          },
          "metadata": {},
          "execution_count": 56
        }
      ],
      "source": [
        "dec_data_word = deencoded_data_word_data_word(v, m, t, g_x_num)\n",
        "np.array_equal(dec_data_word, data_word)"
      ]
    },
    {
      "cell_type": "code",
      "execution_count": 57,
      "metadata": {
        "colab": {
          "base_uri": "https://localhost:8080/"
        },
        "id": "bRKjwKLIwjkZ",
        "outputId": "7bc42f8b-ab7d-4cd4-86f7-f2de75566b37"
      },
      "outputs": [
        {
          "output_type": "stream",
          "name": "stdout",
          "text": [
            "True\n",
            "True\n",
            "True\n",
            "True\n",
            "True\n",
            "True\n",
            "True\n",
            "True\n",
            "True\n",
            "True\n",
            "True\n",
            "True\n",
            "True\n",
            "True\n",
            "True\n"
          ]
        }
      ],
      "source": [
        "for w in w_err1_array :\n",
        "    dec_data_word = deencoded_data_word_data_word(w, m, t, g_x_num)\n",
        "    print(np.array_equal(dec_data_word, data_word))"
      ]
    },
    {
      "cell_type": "code",
      "execution_count": 58,
      "metadata": {
        "colab": {
          "base_uri": "https://localhost:8080/"
        },
        "id": "LpdSCPdEwliM",
        "outputId": "18ffca3b-69b0-4216-b344-58918f287749"
      },
      "outputs": [
        {
          "output_type": "execute_result",
          "data": {
            "text/plain": [
              "True"
            ]
          },
          "metadata": {},
          "execution_count": 58
        }
      ],
      "source": [
        "dec_data_word = deencoded_data_word_data_word(w_err2, m, t, g_x_num)\n",
        "np.array_equal(dec_data_word, data_word)"
      ]
    },
    {
      "cell_type": "code",
      "execution_count": 59,
      "metadata": {
        "colab": {
          "base_uri": "https://localhost:8080/"
        },
        "id": "KOYvhyRawnIW",
        "outputId": "2ac62b0d-a4a7-4ce6-bdca-4894ac0c8d49"
      },
      "outputs": [
        {
          "output_type": "execute_result",
          "data": {
            "text/plain": [
              "True"
            ]
          },
          "metadata": {},
          "execution_count": 59
        }
      ],
      "source": [
        "dec_data_word = deencoded_data_word_data_word(w_err3, m, t, g_x_num)\n",
        "np.array_equal(dec_data_word, data_word)"
      ]
    },
    {
      "cell_type": "code",
      "execution_count": 60,
      "metadata": {
        "colab": {
          "base_uri": "https://localhost:8080/"
        },
        "id": "lJJ9eoQYwojW",
        "outputId": "c290ae07-df10-452b-e484-bbffb0fa1edc"
      },
      "outputs": [
        {
          "output_type": "execute_result",
          "data": {
            "text/plain": [
              "False"
            ]
          },
          "metadata": {},
          "execution_count": 60
        }
      ],
      "source": [
        "dec_data_word = deencoded_data_word_data_word(w_err4, m, t, g_x_num)\n",
        "np.array_equal(dec_data_word, data_word)"
      ]
    }
  ],
  "metadata": {
    "colab": {
      "provenance": [],
      "include_colab_link": true
    },
    "kernelspec": {
      "display_name": "Python 3",
      "name": "python3"
    },
    "language_info": {
      "name": "python"
    }
  },
  "nbformat": 4,
  "nbformat_minor": 0
}