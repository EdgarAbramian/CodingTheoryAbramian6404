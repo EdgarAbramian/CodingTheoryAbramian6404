{
  "cells": [
    {
      "cell_type": "markdown",
      "metadata": {
        "id": "view-in-github"
      },
      "source": [
        "<a href=\"https://colab.research.google.com/github/Alexandr20i/Th_coding/blob/main/Th_coding_LR1_Belov_Vinogradov_Grigorev_Semenickhin.ipynb\" target=\"_parent\"><img src=\"https://colab.research.google.com/assets/colab-badge.svg\" alt=\"Open In Colab\"/></a>"
      ]
    },
    {
      "cell_type": "markdown",
      "metadata": {
        "id": "sKZIDlgI92dS"
      },
      "source": [
        "\n",
        "#  Лабораторная работа №1"
      ]
    },
    {
      "cell_type": "markdown",
      "metadata": {
        "id": "HcrbXzR--k6t"
      },
      "source": [
        "## 1.1 Реализовать функцию REF(), приводящую матрицу к ступенчатому виду."
      ]
    },
    {
      "cell_type": "code",
      "execution_count": 2,
      "metadata": {
        "id": "Qkyh-xuv7UR6"
      },
      "outputs": [],
      "source": [
        "import numpy as np"
      ]
    },
    {
      "cell_type": "code",
      "execution_count": 1,
      "metadata": {
        "id": "Kz9cxWbH917s"
      },
      "outputs": [],
      "source": [
        "\n",
        "def gaussian_elimination(matrix):\n",
        "    mat = matrix.copy()  # Создаём копию матрицы для модификации\n",
        "\n",
        "    # Определяем количество строк и столбцов\n",
        "    num_rows, num_cols = mat.shape\n",
        "    current_row = 0  # Изначально находимся на первой строке\n",
        "\n",
        "    for col in range(num_cols):\n",
        "        # Ищем строку с ненулевым элементом в текущем столбце\n",
        "        pivot = None\n",
        "        for r in range(current_row, num_rows):\n",
        "            if mat[r, col] != 0:\n",
        "                pivot = r\n",
        "                break\n",
        "\n",
        "        # Если подходящий элемент не найден, переходим к следующему столбцу\n",
        "        if pivot is None:\n",
        "            continue\n",
        "\n",
        "        # Меняем местами текущую строку и строку с найденным ведущим элементом\n",
        "        mat[[current_row, pivot]] = mat[[pivot, current_row]]\n",
        "\n",
        "        # Для всех строк ниже текущей, если в них есть единица в этом столбце, вычитаем (по модулю 2)\n",
        "        for r in range(current_row + 1, num_rows):\n",
        "            if mat[r, col] != 0:\n",
        "                mat[r] = (mat[r] + mat[current_row]) % 2\n",
        "\n",
        "        # Переходим к следующей строке\n",
        "        current_row += 1\n",
        "\n",
        "    return mat\n"
      ]
    },
    {
      "cell_type": "code",
      "execution_count": 3,
      "metadata": {
        "colab": {
          "base_uri": "https://localhost:8080/"
        },
        "id": "k7Vnsq8TBky5",
        "outputId": "98e1f20f-e913-4371-fa36-bb23fe4d8f7f"
      },
      "outputs": [
        {
          "output_type": "stream",
          "name": "stdout",
          "text": [
            "[[0 0 1 0 0 1]\n",
            " [1 1 0 0 0 0]\n",
            " [1 0 0 1 0 0]]\n"
          ]
        }
      ],
      "source": [
        "matrix = np.random.randint(0, 2, size=(3, 6))\n",
        "print(matrix)"
      ]
    },
    {
      "cell_type": "code",
      "execution_count": 4,
      "metadata": {
        "colab": {
          "base_uri": "https://localhost:8080/"
        },
        "id": "0ecaIrbpBQfr",
        "outputId": "151aaac5-a437-4b6c-c7a8-41822ae80dbe"
      },
      "outputs": [
        {
          "output_type": "stream",
          "name": "stdout",
          "text": [
            "[[1 1 0 0 0 0]\n",
            " [0 1 0 1 0 0]\n",
            " [0 0 1 0 0 1]]\n"
          ]
        }
      ],
      "source": [
        "result = gaussian_elimination(matrix)\n",
        "print(result)"
      ]
    },
    {
      "cell_type": "markdown",
      "metadata": {
        "id": "LvPJgmf3C2m1"
      },
      "source": [
        "## 1.2 Реализовать функцию RREF(), приводящую матрицу к приведённому ступенчатому виду."
      ]
    },
    {
      "cell_type": "code",
      "execution_count": 7,
      "metadata": {
        "id": "XDEuCNFQC5FB"
      },
      "outputs": [],
      "source": [
        "def reduced_row_echelon(matrix):\n",
        "    mat = matrix.copy()  # Копия матрицы для изменения\n",
        "\n",
        "    # Получаем количество строк и столбцов\n",
        "    num_rows, num_cols = mat.shape\n",
        "    current_row = 0  # Начинаем с первой строки\n",
        "\n",
        "    for col in range(num_cols):\n",
        "        # Находим строку с ненулевым элементом в текущем столбце\n",
        "        pivot = None\n",
        "        for row in range(current_row, num_rows):\n",
        "            if mat[row, col] != 0:\n",
        "                pivot = row\n",
        "                break\n",
        "\n",
        "        # Если нет ведущего элемента, продолжаем с следующего столбца\n",
        "        if pivot is None:\n",
        "            continue\n",
        "\n",
        "        # Меняем местами текущую строку и строку с найденным ведущим элементом\n",
        "        mat[[current_row, pivot]] = mat[[pivot, current_row]]\n",
        "\n",
        "        # Применяем сложение по модулю 2 ко всем строкам ниже\n",
        "        for row in range(num_rows):\n",
        "            if row != current_row and mat[row, col] != 0:\n",
        "                mat[row] = (mat[row] + mat[current_row]) % 2\n",
        "\n",
        "        current_row += 1\n",
        "\n",
        "        # Если дошли до последней строки, прекращаем\n",
        "        if current_row >= num_rows:\n",
        "            break\n",
        "\n",
        "    return mat"
      ]
    },
    {
      "cell_type": "code",
      "execution_count": 8,
      "metadata": {
        "colab": {
          "base_uri": "https://localhost:8080/"
        },
        "id": "-khtuDPJD8EL",
        "outputId": "fd9f3187-ef95-4c77-8b89-199ba1388e66"
      },
      "outputs": [
        {
          "output_type": "stream",
          "name": "stdout",
          "text": [
            "[[1 0 1 1 1 1]\n",
            " [1 1 0 1 0 0]\n",
            " [0 0 1 0 0 0]\n",
            " [0 1 0 1 0 1]\n",
            " [0 0 0 0 1 1]]\n"
          ]
        }
      ],
      "source": [
        "matrix = np.random.randint(0, 2, size=(5, 6))\n",
        "print(matrix)"
      ]
    },
    {
      "cell_type": "code",
      "execution_count": 9,
      "metadata": {
        "colab": {
          "base_uri": "https://localhost:8080/"
        },
        "id": "bAWBJKGcD5gH",
        "outputId": "7980f3c2-0bdc-47b0-9f3a-45efa7e20000"
      },
      "outputs": [
        {
          "output_type": "stream",
          "name": "stdout",
          "text": [
            "[[1 0 0 0 0 1]\n",
            " [0 1 0 0 0 0]\n",
            " [0 0 1 0 0 0]\n",
            " [0 0 0 1 0 1]\n",
            " [0 0 0 0 1 1]]\n"
          ]
        }
      ],
      "source": [
        "result = reduced_row_echelon(matrix)\n",
        "print(result)"
      ]
    },
    {
      "cell_type": "markdown",
      "metadata": {
        "id": "fDfu4NgOEv8Q"
      },
      "source": [
        "## 1.3 Создать класс линейных кодов LinearCode."
      ]
    },
    {
      "cell_type": "markdown",
      "metadata": {
        "id": "BfrJza3_EyoY"
      },
      "source": [
        "### 1.3.1 На основе входной матрицы сформировать порождающую матрицу в ступенчатом виде."
      ]
    },
    {
      "cell_type": "code",
      "execution_count": 10,
      "metadata": {
        "colab": {
          "base_uri": "https://localhost:8080/"
        },
        "id": "L-OcX0lNE2Xd",
        "outputId": "9ea50771-045c-4444-da9a-2ae066ef6de9"
      },
      "outputs": [
        {
          "output_type": "stream",
          "name": "stdout",
          "text": [
            "[[1 0 0 0 0 1 1 0 0 0 0]\n",
            " [0 1 0 0 0 0 0 1 0 0 0]\n",
            " [0 0 1 0 0 0 1 1 0 1 0]\n",
            " [0 0 0 1 0 1 1 1 0 0 1]\n",
            " [0 0 0 0 1 0 1 1 0 1 1]\n",
            " [0 0 0 0 0 0 0 0 1 0 1]]\n"
          ]
        }
      ],
      "source": [
        "S = np.array([[1, 0, 0, 1, 0, 0, 0, 1, 0, 0, 1],\n",
        "             [0, 1, 0, 1, 1, 1, 0, 1, 0, 1, 0],\n",
        "             [0, 0, 1, 0, 1, 0, 0, 0, 0, 0, 1],\n",
        "             [1, 0, 1, 0, 1, 1, 1, 0, 0, 0, 1],\n",
        "             [0, 0, 0, 0, 1, 0, 1, 1, 1, 1, 0],\n",
        "             [1, 1, 1, 1, 1, 0, 0, 0, 0, 0, 0]])\n",
        "S_REF = reduced_row_echelon(S)\n",
        "print(S_REF)"
      ]
    },
    {
      "cell_type": "markdown",
      "metadata": {
        "id": "_CdPJeyKF_f3"
      },
      "source": [
        "### 1.3.2 Задать n равное числу столбцов и k равное числу строк полученной матрицы (без учёта полностью нулевых строк)."
      ]
    },
    {
      "cell_type": "code",
      "execution_count": 11,
      "metadata": {
        "id": "mYwFYUXYJj-J"
      },
      "outputs": [],
      "source": [
        "def remove_zero_rows(matrix):\n",
        "    # Удаляем строки, которые полностью состоят из нулей\n",
        "    filtered_matrix = matrix[~np.all(matrix == 0, axis=1)]\n",
        "\n",
        "    # Получаем количество строк и столбцов в новой матрице\n",
        "    num_rows = filtered_matrix.shape[0]\n",
        "    num_cols = filtered_matrix.shape[1]\n",
        "\n",
        "    return num_cols, num_rows"
      ]
    },
    {
      "cell_type": "code",
      "execution_count": 13,
      "metadata": {
        "colab": {
          "base_uri": "https://localhost:8080/"
        },
        "id": "bveFA3RaGAwV",
        "outputId": "78bb3f47-df7c-4188-d883-e6e31e70fc4c"
      },
      "outputs": [
        {
          "output_type": "stream",
          "name": "stdout",
          "text": [
            "[[0 0 0 0 0 0]\n",
            " [1 1 0 1 1 0]\n",
            " [1 1 0 0 0 0]\n",
            " [0 0 0 0 0 1]\n",
            " [1 1 0 0 0 1]]\n"
          ]
        }
      ],
      "source": [
        "G = np.random.randint(0, 2, size=(5, 6))\n",
        "print(G)"
      ]
    },
    {
      "cell_type": "code",
      "execution_count": 14,
      "metadata": {
        "colab": {
          "base_uri": "https://localhost:8080/"
        },
        "id": "MepH1VdgLS2U",
        "outputId": "ef76dbb5-e3b5-45c3-cfb3-6dc4492e1fef"
      },
      "outputs": [
        {
          "output_type": "stream",
          "name": "stdout",
          "text": [
            "[[1 1 0 0 0 0]\n",
            " [0 0 0 1 1 0]\n",
            " [0 0 0 0 0 1]\n",
            " [0 0 0 0 0 0]\n",
            " [0 0 0 0 0 0]]\n"
          ]
        }
      ],
      "source": [
        "result = reduced_row_echelon(G)\n",
        "print(result)"
      ]
    },
    {
      "cell_type": "code",
      "execution_count": 15,
      "metadata": {
        "colab": {
          "base_uri": "https://localhost:8080/"
        },
        "id": "BkXJr1m2KDvf",
        "outputId": "66802396-66c5-4672-a4ab-e8dc8f2be3b5"
      },
      "outputs": [
        {
          "output_type": "stream",
          "name": "stdout",
          "text": [
            " n = 6 \n",
            " k = 3\n"
          ]
        }
      ],
      "source": [
        "n,k = remove_zero_rows(result)\n",
        "print(f\" n = {n} \\n k = {k}\")"
      ]
    },
    {
      "cell_type": "markdown",
      "metadata": {
        "id": "XYZhExIlLq12"
      },
      "source": [
        "### 1.3.3 Сформировать проверочную матрицу на основе порождающей."
      ]
    },
    {
      "cell_type": "code",
      "execution_count": 16,
      "metadata": {
        "colab": {
          "base_uri": "https://localhost:8080/"
        },
        "id": "4iyyZJTJLx2e",
        "outputId": "6ca65522-806d-4e9c-c473-8c4d1364ebf3"
      },
      "outputs": [
        {
          "output_type": "stream",
          "name": "stdout",
          "text": [
            "[[1 0 0 0 0 1 1 0 0 0 0]\n",
            " [0 1 0 0 0 0 0 1 0 0 0]\n",
            " [0 0 1 0 0 0 1 1 0 1 0]\n",
            " [0 0 0 1 0 1 1 1 0 0 1]\n",
            " [0 0 0 0 1 0 1 1 0 1 1]\n",
            " [0 0 0 0 0 0 0 0 1 0 1]]\n"
          ]
        }
      ],
      "source": [
        "# Шаг 1. Сформировать матрицу 𝐆∗ в приведённом ступенчатом виде на основе порождающей.\n",
        "S = np.array([[1, 0, 0, 1, 0, 0, 0, 1, 0, 0, 1],\n",
        "             [0, 1, 0, 1, 1, 1, 0, 1, 0, 1, 0],\n",
        "             [0, 0, 1, 0, 1, 0, 0, 0, 0, 0, 1],\n",
        "             [1, 0, 1, 0, 1, 1, 1, 0, 0, 0, 1],\n",
        "             [0, 0, 0, 0, 1, 0, 1, 1, 1, 1, 0],\n",
        "             [1, 1, 1, 1, 1, 0, 0, 0, 0, 0, 0]])\n",
        "matrix = reduced_row_echelon(S)\n",
        "print(matrix)"
      ]
    },
    {
      "cell_type": "code",
      "execution_count": 17,
      "metadata": {
        "colab": {
          "base_uri": "https://localhost:8080/"
        },
        "id": "pQ0oaI9pWcUa",
        "outputId": "a0ae5cdc-3967-4a8d-8a67-7b70f0984a9e"
      },
      "outputs": [
        {
          "output_type": "stream",
          "name": "stdout",
          "text": [
            "Ведущие столбцы: [0, 1, 2, 3, 4, 8]\n"
          ]
        }
      ],
      "source": [
        "def identify_pivots(matrix):\n",
        "    # Получаем количество строк и столбцов\n",
        "    num_rows, num_cols = matrix.shape\n",
        "    pivot_columns = []  # Список для хранения индексов ведущих столбцов\n",
        "\n",
        "    # Ищем ведущий элемент в каждой строке\n",
        "    for row in range(num_rows):\n",
        "        for col in range(num_cols):\n",
        "            if matrix[row, col] == 1:\n",
        "                # Если нашли ведущий элемент, фиксируем индекс столбца\n",
        "                pivot_columns.append(col)\n",
        "                break  # Переходим к следующей строке\n",
        "\n",
        "    return pivot_columns\n",
        "\n",
        "# Пример использования функции\n",
        "pivot_indices = identify_pivots(matrix)\n",
        "print(f\"Ведущие столбцы: {pivot_indices}\")"
      ]
    },
    {
      "cell_type": "code",
      "execution_count": 18,
      "metadata": {
        "colab": {
          "base_uri": "https://localhost:8080/"
        },
        "id": "YrtVUcmDZQFF",
        "outputId": "29b4bd6d-f84f-4ec2-9999-8bd42830fcec"
      },
      "outputs": [
        {
          "output_type": "stream",
          "name": "stdout",
          "text": [
            "Сокращённая матрица X:\n",
            "[[1 1 0 0 0]\n",
            " [0 0 1 0 0]\n",
            " [0 1 1 1 0]\n",
            " [1 1 1 0 1]\n",
            " [0 1 1 1 1]\n",
            " [0 0 0 0 1]]\n"
          ]
        }
      ],
      "source": [
        "# Шаг 3. Сформировать сокращённую матрицу 𝐗, удалив ведущие столбцы матрицы 𝐆∗.\n",
        "# Удаляем ведущие столбцы, оставляя только остальные\n",
        "H3 = np.delete(matrix, pivot_indices, axis=1)\n",
        "\n",
        "print(\"Сокращённая матрица X:\")\n",
        "print(H3)"
      ]
    },
    {
      "cell_type": "code",
      "execution_count": 20,
      "metadata": {
        "colab": {
          "base_uri": "https://localhost:8080/"
        },
        "id": "46vnPr0fazVq",
        "outputId": "36b7762b-22c6-4c7b-a846-f289b0877da4"
      },
      "outputs": [
        {
          "output_type": "stream",
          "name": "stdout",
          "text": [
            "[[1 1 0 0 0]\n",
            " [0 0 1 0 0]\n",
            " [0 1 1 1 0]\n",
            " [1 1 1 0 1]\n",
            " [0 1 1 1 1]\n",
            " [1 0 0 0 0]\n",
            " [0 1 0 0 0]\n",
            " [0 0 1 0 0]\n",
            " [0 0 0 0 1]\n",
            " [0 0 0 1 0]\n",
            " [0 0 0 0 1]]\n"
          ]
        }
      ],
      "source": [
        "import numpy as np\n",
        "\n",
        "def create_matrix_without_null(matrix):\n",
        "    # Получаем количество строк и столбцов, исключая нулевые строки\n",
        "    num_rows, num_cols = matrix.shape\n",
        "    filtered_matrix = matrix[~np.all(matrix == 0, axis=1)]\n",
        "\n",
        "    return filtered_matrix.shape[1], filtered_matrix.shape[0]\n",
        "\n",
        "def construct_matrix(leading_columns, matrix_X, num_rows_X, matrix_identity, num_rows_identity):\n",
        "    # Инициализируем индексы для матрицы результата\n",
        "    index_X = 0\n",
        "    index_identity = 0\n",
        "    result_matrix = []\n",
        "\n",
        "    # Объединяем строки из матрицы X и единичной матрицы в соответствии с ведущими столбцами\n",
        "    for i in range(num_rows_identity + num_rows_X):\n",
        "        if index_X < len(leading_columns) and i == leading_columns[index_X]:\n",
        "            result_matrix.append(matrix_X[index_X])\n",
        "            index_X += 1\n",
        "        else:\n",
        "            result_matrix.append(matrix_identity[index_identity])\n",
        "            index_identity += 1\n",
        "\n",
        "    return np.array(result_matrix)\n",
        "\n",
        "# Пример использования\n",
        "nH3, kH3 = create_matrix_without_null(H3)\n",
        "nH4 = max(nH3, kH3)\n",
        "H4 = np.eye(nH3, dtype=int)\n",
        "\n",
        "result = construct_matrix(pivot_indices, H3, nH3, H4, nH4)\n",
        "print(result)\n"
      ]
    },
    {
      "cell_type": "markdown",
      "metadata": {
        "id": "smBjTTtiISar"
      },
      "source": [
        "## 1.4 Сформировать все кодовые слова длины n двумя способами."
      ]
    },
    {
      "cell_type": "markdown",
      "metadata": {
        "id": "O3JukGUWIelE"
      },
      "source": [
        "### 1.4.1 Сложить все слова из порождающего множества, оставить неповторяющиеся.\n"
      ]
    },
    {
      "cell_type": "code",
      "execution_count": 28,
      "metadata": {
        "id": "y6hT03-C_RJ5"
      },
      "outputs": [],
      "source": [
        "# Функция для генерации уникальных кодовых слов из порождающего множества\n",
        "def generate_unique_words(G):\n",
        "    unique_words = set()\n",
        "    rows, cols = G.shape\n",
        "\n",
        "    for i in range(1, 2**rows):\n",
        "        result = np.zeros(cols, dtype=int)\n",
        "        for j in range(rows):\n",
        "            if (i >> j) & 1:\n",
        "                result = (result + G[j]) % 2\n",
        "        unique_words.add(tuple(result))\n",
        "\n",
        "    return np.array(list(unique_words))"
      ]
    },
    {
      "cell_type": "code",
      "execution_count": 27,
      "metadata": {
        "id": "RccyZ13wIU-_"
      },
      "outputs": [],
      "source": [
        "G = np.array([[1, 0, 1, 1, 0, 0, 0, 1, 0, 0, 1],\n",
        "              [0, 0, 0, 1, 1, 1, 0, 1, 0, 1, 0],\n",
        "              [0, 0, 0, 0, 1, 0, 0, 1, 0, 0, 1],\n",
        "              [0, 0, 0, 0, 0, 0, 1, 0, 0, 1, 0],\n",
        "              [0, 0, 0, 0, 0, 0, 0, 0, 1, 1, 1]])\n",
        "\n",
        "M = np.array([[0, 1, 0, 0],  # строка 1\n",
        "              [0, 0, 1, 1],  # строка 2\n",
        "              [1, 1, 0, 0]]) # строка 4\n",
        "\n",
        "H = np.array([[0, 1, 1, 1, 1, 0],\n",
        "             [1, 0, 0, 0, 0, 0],\n",
        "             [0, 1, 0, 0, 0, 0],\n",
        "             [0, 0, 1, 0, 1, 1],\n",
        "             [0, 0, 0, 1, 0, 1],\n",
        "             [0, 0, 1, 0, 0, 0],\n",
        "             [0, 0, 0, 0, 1, 0],\n",
        "             [0, 0, 0, 1, 0, 0],\n",
        "             [0, 0, 0, 0, 1, 1],\n",
        "             [0, 0, 0, 0, 1, 0],\n",
        "             [0, 0, 0, 0, 0, 1]])\n"
      ]
    },
    {
      "cell_type": "code",
      "execution_count": 29,
      "metadata": {
        "colab": {
          "base_uri": "https://localhost:8080/"
        },
        "id": "bZJdWHMo_WQL",
        "outputId": "73378de5-a48d-4c5e-90a6-412961d17277"
      },
      "outputs": [
        {
          "output_type": "stream",
          "name": "stdout",
          "text": [
            "[[0 1 1 1]\n",
            " [1 0 1 1]\n",
            " [1 1 0 0]\n",
            " [0 1 0 0]\n",
            " [1 0 0 0]\n",
            " [0 0 1 1]\n",
            " [1 1 1 1]]\n"
          ]
        }
      ],
      "source": [
        "# Генерация кодовых слов\n",
        "unique_words = generate_unique_words(M)\n",
        "print(unique_words)\n"
      ]
    },
    {
      "cell_type": "markdown",
      "metadata": {
        "id": "VC4odmnaIytL"
      },
      "source": [
        "### 1.4.2 Взять все двоичные слова длины k, умножить каждое на G.\n"
      ]
    },
    {
      "cell_type": "code",
      "execution_count": 30,
      "metadata": {
        "colab": {
          "base_uri": "https://localhost:8080/"
        },
        "id": "kcHyuIITI1az",
        "outputId": "ffdb154c-39cf-4740-aecc-52fa8da3a016"
      },
      "outputs": [
        {
          "output_type": "stream",
          "name": "stdout",
          "text": [
            "u =  [1 0 1 1 0]\n",
            "v = u@G  [1 0 1 1 1 0 1 0 0 1 0]\n",
            "v@H = [0 0 0 0 0 0]\n"
          ]
        }
      ],
      "source": [
        "# 1.4.2 Взять все двоичные слова длины k, умножить каждое на G.\n",
        "\n",
        "u = np.array([1, 0, 1, 1, 0])\n",
        "print('u = ', u)\n",
        "\n",
        "v = np.dot(u,G)\n",
        "v %= 2\n",
        "print('v = u@G ', v)\n",
        "\n",
        "check = np.dot(v, H)\n",
        "check %= 2\n",
        "print('v@H =', check)"
      ]
    },
    {
      "cell_type": "markdown",
      "metadata": {
        "id": "xS7fV9eAJCqJ"
      },
      "source": [
        "## 1.5 Вычислить кодовое расстояние получившегося кода.\n"
      ]
    },
    {
      "cell_type": "code",
      "execution_count": 31,
      "metadata": {
        "id": "ZyJEZ77BFmY4"
      },
      "outputs": [],
      "source": [
        "from itertools import combinations\n",
        "\n",
        "# Функция для вычисления кодового расстояния\n",
        "def calculate_code_distance(matrix):\n",
        "    # Устанавливаем начальное большое значение для минимального веса\n",
        "    min_weight = np.inf\n",
        "\n",
        "    # Перебираем все возможные комбинации строк матрицы (от 1 до всех строк)\n",
        "    for size in range(1, len(matrix) + 1):\n",
        "        for subset in combinations(matrix, size):\n",
        "            # Создаем результирующий вектор как сумму строк по модулю 2\n",
        "            result_vector = np.zeros(len(matrix[0]), dtype=int)\n",
        "\n",
        "            # Проход по каждой строке из подмножества\n",
        "            for row in subset:\n",
        "                result_vector = (result_vector + row) % 2\n",
        "\n",
        "            # Вычисляем вес (количество ненулевых элементов) результирующего вектора\n",
        "            weight = np.sum(result_vector)\n",
        "\n",
        "            # Обновляем минимальный вес, если найден новый\n",
        "            if 0 < weight < min_weight:\n",
        "                min_weight = weight\n",
        "\n",
        "    return int(min_weight)"
      ]
    },
    {
      "cell_type": "code",
      "execution_count": 32,
      "metadata": {
        "id": "V5PTXQYCGh3V"
      },
      "outputs": [],
      "source": [
        "G = np.array([[1, 0, 1, 1, 0, 0, 0, 1, 0, 0, 1],\n",
        "              [0, 0, 0, 1, 1, 1, 0, 1, 0, 1, 0],\n",
        "              [0, 0, 0, 0, 1, 0, 0, 1, 0, 0, 1],\n",
        "              [0, 0, 0, 0, 0, 0, 1, 0, 0, 1, 0],\n",
        "              [0, 0, 0, 0, 0, 0, 0, 0, 1, 1, 1]])"
      ]
    },
    {
      "cell_type": "code",
      "execution_count": 33,
      "metadata": {
        "colab": {
          "base_uri": "https://localhost:8080/"
        },
        "id": "wqmE_4mRFsfM",
        "outputId": "f2f81ae6-3297-4a6c-8646-98e91ff5e1bc"
      },
      "outputs": [
        {
          "output_type": "stream",
          "name": "stdout",
          "text": [
            "n = 11 \n",
            "k = 5\n",
            "Кодовое расстояние (d) = 2\n",
            "Кратность обнаруживаемой ошибки (t) = 1\n"
          ]
        }
      ],
      "source": [
        "# Размерность матрицы G\n",
        "n = G.shape[1]  # Число столбцов\n",
        "k = G.shape[0]  # Число строк\n",
        "print('n =', n, '\\nk =', k)\n",
        "\n",
        "# Вычисляем минимальное кодовое расстояние\n",
        "d = calculate_code_distance(G)\n",
        "\n",
        "# Вычисляем кратность обнаруживаемой ошибки\n",
        "t = d - 1  # или можно оставить t = (d - 1) // 2, в зависимости от требования\n",
        "print(\"Кодовое расстояние (d) =\", d)\n",
        "print(\"Кратность обнаруживаемой ошибки (t) =\", t)"
      ]
    },
    {
      "cell_type": "markdown",
      "metadata": {
        "id": "aHNcDmVVJwNC"
      },
      "source": [
        "### 1.5.1 Внести в кодовое слово ошибку кратности не более t, умножить полученное слово на H, убедиться в обнаружении ошибки."
      ]
    },
    {
      "cell_type": "code",
      "execution_count": 34,
      "metadata": {
        "colab": {
          "base_uri": "https://localhost:8080/"
        },
        "id": "uEEwFQ3qJvxM",
        "outputId": "0735b2ab-e833-4601-9f1e-8a1a09ff4e0a"
      },
      "outputs": [
        {
          "output_type": "stream",
          "name": "stdout",
          "text": [
            "v+e1 [1 0 0 1 1 0 1 0 0 1 0]\n",
            "(v+e1)@H = [0 1 0 0 0 0] - error\n"
          ]
        }
      ],
      "source": [
        "v = np.array([1, 0, 1, 1, 1, 0, 1, 0, 0, 1, 0])\n",
        "e1 = np.array([0, 0, 1, 0, 0, 0, 0, 0, 0, 0, 0])\n",
        "Ve1 = (v + e1) % 2\n",
        "print('v+e1', Ve1)\n",
        "check = np.dot(Ve1, H)\n",
        "check %= 2\n",
        "print('(v+e1)@H =', check, \"- error\")\n"
      ]
    },
    {
      "cell_type": "markdown",
      "metadata": {
        "id": "PZv_WdQ1Jy9Y"
      },
      "source": [
        "### 1.5.2 Найти для некоторого кодового слова ошибку кратности t+1 такую, что при умножении на H ошибка не может быть обнаружена.\n"
      ]
    },
    {
      "cell_type": "code",
      "execution_count": 35,
      "metadata": {
        "id": "qq38lTdTyw0o"
      },
      "outputs": [],
      "source": [
        "def detect_error_pattern(codeword, parity_check_matrix):\n",
        "    # Перебираем все возможные пары позиций в кодовом слове\n",
        "    for index1 in range(len(codeword) - 1):\n",
        "        for index2 in range(index1 + 1, len(codeword)):\n",
        "            # Формируем вектор ошибки для двух позиций\n",
        "            error_vector = np.zeros(len(codeword), dtype=int)\n",
        "            error_vector[[index1, index2]] = 1  # Устанавливаем единицы на выбранных позициях\n",
        "\n",
        "            # Вектор с ошибкой\n",
        "            corrupted_word = (codeword + error_vector) % 2\n",
        "\n",
        "            # Проверка: умножаем на проверочную матрицу\n",
        "            syndrome = np.dot(corrupted_word, parity_check_matrix) % 2\n",
        "\n",
        "            # Если синдром состоит из всех нулей, значит ошибка не обнаружена\n",
        "            if np.all(syndrome == 0):\n",
        "                return error_vector  # Возвращаем найденный вектор ошибки\n",
        "\n",
        "    return None  # Если ошибка не была обнаружена\n"
      ]
    },
    {
      "cell_type": "code",
      "execution_count": 36,
      "metadata": {
        "colab": {
          "base_uri": "https://localhost:8080/"
        },
        "id": "ojqBDdSeyzwn",
        "outputId": "160bc9ca-7aad-434d-cc40-7d8300787e47"
      },
      "outputs": [
        {
          "output_type": "stream",
          "name": "stdout",
          "text": [
            "e2 [0 0 0 0 0 0 1 0 0 1 0]\n",
            "v+e2 [1 0 1 1 1 0 0 0 0 0 0]\n",
            "(v+e2)@H = [0 0 0 0 0 0] - no error\n"
          ]
        }
      ],
      "source": [
        "e2 = detect_error_pattern(v, H)\n",
        "print('e2', e2)\n",
        "\n",
        "Ve2 = (v + e2) % 2\n",
        "print('v+e2', Ve2)\n",
        "\n",
        "check = np.dot(Ve2, H)\n",
        "check %= 2\n",
        "print('(v+e2)@H =', check, \"- no error\")"
      ]
    },
    {
      "cell_type": "markdown",
      "metadata": {
        "id": "kVI5QXlwJFrI"
      },
      "source": []
    }
  ],
  "metadata": {
    "colab": {
      "provenance": []
    },
    "kernelspec": {
      "display_name": "Python 3",
      "name": "python3"
    },
    "language_info": {
      "name": "python"
    }
  },
  "nbformat": 4,
  "nbformat_minor": 0
}