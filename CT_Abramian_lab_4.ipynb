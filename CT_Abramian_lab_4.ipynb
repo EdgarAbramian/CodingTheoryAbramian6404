{
  "nbformat": 4,
  "nbformat_minor": 0,
  "metadata": {
    "colab": {
      "provenance": [],
      "authorship_tag": "ABX9TyMYXvww/azrrLSQ9cS0YgrR",
      "include_colab_link": true
    },
    "kernelspec": {
      "name": "python3",
      "display_name": "Python 3"
    },
    "language_info": {
      "name": "python"
    }
  },
  "cells": [
    {
      "cell_type": "markdown",
      "metadata": {
        "id": "view-in-github",
        "colab_type": "text"
      },
      "source": [
        "<a href=\"https://colab.research.google.com/github/Alexandr20i/Th_coding/blob/main/Th_coding_LR4_Belov_Vinogradov_Grigorev_Semenickhin.ipynb\" target=\"_parent\"><img src=\"https://colab.research.google.com/assets/colab-badge.svg\" alt=\"Open In Colab\"/></a>"
      ]
    },
    {
      "cell_type": "markdown",
      "source": [
        "#  Лабораторная работа №4"
      ],
      "metadata": {
        "id": "7VSLh9frzk9M"
      }
    },
    {
      "cell_type": "code",
      "source": [
        "import numpy as np\n",
        "import random"
      ],
      "metadata": {
        "id": "0FBWkBmAzssy"
      },
      "execution_count": 1,
      "outputs": []
    },
    {
      "cell_type": "markdown",
      "source": [
        "## 4.1 Написать функцию формирования порождающей и проверочной матриц расширенного кода Голея (24,12,8)."
      ],
      "metadata": {
        "id": "-kQrO30-zQoQ"
      }
    },
    {
      "cell_type": "code",
      "source": [
        "B = [[1, 1, 0, 1, 1, 1, 0, 0, 0, 1, 0, 1],\n",
        "     [1, 0, 1, 1, 1, 0, 0, 0, 1, 0, 1, 1],\n",
        "     [0, 1, 1, 1, 0, 0, 0, 1, 0, 1, 1, 1],\n",
        "     [1, 1, 1, 0, 0, 0, 1, 0, 1, 1, 0, 1],\n",
        "     [1, 1, 0, 0, 0, 1, 0, 1, 1, 0, 1, 1],\n",
        "     [1, 0, 0, 0, 1, 0, 1, 1, 0, 1, 1, 1],\n",
        "     [0, 0, 0, 1, 0, 1, 1, 0, 1, 1, 1, 1],\n",
        "     [0, 0, 1, 0, 1, 1, 0, 1, 1, 1, 0, 1],\n",
        "     [0, 1, 0, 1, 1, 0, 1, 1, 1, 0, 0, 1],\n",
        "     [1, 0, 1, 1, 0, 1, 1, 1, 0, 0, 0, 1],\n",
        "     [0, 1, 1, 0, 1, 1, 1, 0, 0, 0, 1, 1],\n",
        "     [1, 1, 1, 1, 1, 1, 1, 1, 1, 1, 1, 0]]"
      ],
      "metadata": {
        "id": "_AeTbkYQ0Ki2"
      },
      "execution_count": 2,
      "outputs": []
    },
    {
      "cell_type": "code",
      "source": [
        "def G_Golay():\n",
        "    G = np.zeros((12, 24), dtype=int)\n",
        "    G[:, :12] = np.eye(12, dtype=int)\n",
        "    for i in range(12):\n",
        "        G[i][12:] = B[i]\n",
        "    return G.astype(int)\n",
        "\n",
        "\n",
        "G_matrix = G_Golay()\n",
        "G_matrix"
      ],
      "metadata": {
        "colab": {
          "base_uri": "https://localhost:8080/"
        },
        "id": "W3Dp9KFy0N7F",
        "outputId": "c2b39d98-9bcb-40be-e2cc-b6134768bdfb"
      },
      "execution_count": 3,
      "outputs": [
        {
          "output_type": "execute_result",
          "data": {
            "text/plain": [
              "array([[1, 0, 0, 0, 0, 0, 0, 0, 0, 0, 0, 0, 1, 1, 0, 1, 1, 1, 0, 0, 0, 1,\n",
              "        0, 1],\n",
              "       [0, 1, 0, 0, 0, 0, 0, 0, 0, 0, 0, 0, 1, 0, 1, 1, 1, 0, 0, 0, 1, 0,\n",
              "        1, 1],\n",
              "       [0, 0, 1, 0, 0, 0, 0, 0, 0, 0, 0, 0, 0, 1, 1, 1, 0, 0, 0, 1, 0, 1,\n",
              "        1, 1],\n",
              "       [0, 0, 0, 1, 0, 0, 0, 0, 0, 0, 0, 0, 1, 1, 1, 0, 0, 0, 1, 0, 1, 1,\n",
              "        0, 1],\n",
              "       [0, 0, 0, 0, 1, 0, 0, 0, 0, 0, 0, 0, 1, 1, 0, 0, 0, 1, 0, 1, 1, 0,\n",
              "        1, 1],\n",
              "       [0, 0, 0, 0, 0, 1, 0, 0, 0, 0, 0, 0, 1, 0, 0, 0, 1, 0, 1, 1, 0, 1,\n",
              "        1, 1],\n",
              "       [0, 0, 0, 0, 0, 0, 1, 0, 0, 0, 0, 0, 0, 0, 0, 1, 0, 1, 1, 0, 1, 1,\n",
              "        1, 1],\n",
              "       [0, 0, 0, 0, 0, 0, 0, 1, 0, 0, 0, 0, 0, 0, 1, 0, 1, 1, 0, 1, 1, 1,\n",
              "        0, 1],\n",
              "       [0, 0, 0, 0, 0, 0, 0, 0, 1, 0, 0, 0, 0, 1, 0, 1, 1, 0, 1, 1, 1, 0,\n",
              "        0, 1],\n",
              "       [0, 0, 0, 0, 0, 0, 0, 0, 0, 1, 0, 0, 1, 0, 1, 1, 0, 1, 1, 1, 0, 0,\n",
              "        0, 1],\n",
              "       [0, 0, 0, 0, 0, 0, 0, 0, 0, 0, 1, 0, 0, 1, 1, 0, 1, 1, 1, 0, 0, 0,\n",
              "        1, 1],\n",
              "       [0, 0, 0, 0, 0, 0, 0, 0, 0, 0, 0, 1, 1, 1, 1, 1, 1, 1, 1, 1, 1, 1,\n",
              "        1, 0]])"
            ]
          },
          "metadata": {},
          "execution_count": 3
        }
      ]
    },
    {
      "cell_type": "code",
      "source": [
        "def H_Golay(G):\n",
        "    n = len(G.T)\n",
        "    k = len(G)\n",
        "    n_k = n - k\n",
        "    H = np.zeros((n, n_k), dtype=int)\n",
        "    I = np.eye(n_k, dtype=int)\n",
        "    H[:k, :] = I\n",
        "    H[k:, :] = G[:, k:]\n",
        "    return H\n",
        "\n",
        "\n",
        "H_matrix = H_Golay(G_matrix)\n",
        "H_matrix"
      ],
      "metadata": {
        "colab": {
          "base_uri": "https://localhost:8080/"
        },
        "id": "KFFngxm_0X3m",
        "outputId": "9d673b47-b20f-442a-abfd-c2378b74946f"
      },
      "execution_count": 4,
      "outputs": [
        {
          "output_type": "execute_result",
          "data": {
            "text/plain": [
              "array([[1, 0, 0, 0, 0, 0, 0, 0, 0, 0, 0, 0],\n",
              "       [0, 1, 0, 0, 0, 0, 0, 0, 0, 0, 0, 0],\n",
              "       [0, 0, 1, 0, 0, 0, 0, 0, 0, 0, 0, 0],\n",
              "       [0, 0, 0, 1, 0, 0, 0, 0, 0, 0, 0, 0],\n",
              "       [0, 0, 0, 0, 1, 0, 0, 0, 0, 0, 0, 0],\n",
              "       [0, 0, 0, 0, 0, 1, 0, 0, 0, 0, 0, 0],\n",
              "       [0, 0, 0, 0, 0, 0, 1, 0, 0, 0, 0, 0],\n",
              "       [0, 0, 0, 0, 0, 0, 0, 1, 0, 0, 0, 0],\n",
              "       [0, 0, 0, 0, 0, 0, 0, 0, 1, 0, 0, 0],\n",
              "       [0, 0, 0, 0, 0, 0, 0, 0, 0, 1, 0, 0],\n",
              "       [0, 0, 0, 0, 0, 0, 0, 0, 0, 0, 1, 0],\n",
              "       [0, 0, 0, 0, 0, 0, 0, 0, 0, 0, 0, 1],\n",
              "       [1, 1, 0, 1, 1, 1, 0, 0, 0, 1, 0, 1],\n",
              "       [1, 0, 1, 1, 1, 0, 0, 0, 1, 0, 1, 1],\n",
              "       [0, 1, 1, 1, 0, 0, 0, 1, 0, 1, 1, 1],\n",
              "       [1, 1, 1, 0, 0, 0, 1, 0, 1, 1, 0, 1],\n",
              "       [1, 1, 0, 0, 0, 1, 0, 1, 1, 0, 1, 1],\n",
              "       [1, 0, 0, 0, 1, 0, 1, 1, 0, 1, 1, 1],\n",
              "       [0, 0, 0, 1, 0, 1, 1, 0, 1, 1, 1, 1],\n",
              "       [0, 0, 1, 0, 1, 1, 0, 1, 1, 1, 0, 1],\n",
              "       [0, 1, 0, 1, 1, 0, 1, 1, 1, 0, 0, 1],\n",
              "       [1, 0, 1, 1, 0, 1, 1, 1, 0, 0, 0, 1],\n",
              "       [0, 1, 1, 0, 1, 1, 1, 0, 0, 0, 1, 1],\n",
              "       [1, 1, 1, 1, 1, 1, 1, 1, 1, 1, 1, 0]])"
            ]
          },
          "metadata": {},
          "execution_count": 4
        }
      ]
    },
    {
      "cell_type": "markdown",
      "source": [
        "## 4.2. Провести исследование расширенного кода Голея для одно-, двух-, трёх- и четырёхкратных ошибок."
      ],
      "metadata": {
        "id": "lSJER-yxzVjT"
      }
    },
    {
      "cell_type": "code",
      "source": [
        "def get_error(receive, H, B):\n",
        "    s = receive @ H % 2\n",
        "    u1 = None\n",
        "    if sum(s) <= 3:\n",
        "        u1 = np.array(s)\n",
        "        u1 = np.hstack((u1, np.zeros(len(s), dtype=int)))\n",
        "    else:\n",
        "        for i in range(len(B)):\n",
        "            temp = (s + B[i]) % 2\n",
        "            if sum(temp) <= 2:\n",
        "                ei = np.zeros(len(s), dtype=int)\n",
        "                ei[i] = 1\n",
        "                u1 = np.hstack((temp, ei))\n",
        "    if u1 is not None:\n",
        "        u1\n",
        "    else:\n",
        "        sB = s @ B % 2\n",
        "        if sum(sB) <= 3:\n",
        "            u1 = np.hstack((np.zeros(len(s), dtype=int), sB))\n",
        "        else:\n",
        "            for i in range(len(B)):\n",
        "                temp = (sB + B[i]) % 2\n",
        "                if sum(temp) <= 2:\n",
        "                    ei = np.zeros(len(s), dtype=int)\n",
        "                    ei[i] = 1\n",
        "                    u1 = np.hstack((ei, temp))\n",
        "    return u1\n"
      ],
      "metadata": {
        "id": "L8hywyzJ0nhQ"
      },
      "execution_count": 5,
      "outputs": []
    },
    {
      "cell_type": "code",
      "source": [
        "def set_error(send, error_count, G, H, B):\n",
        "    print(f'Исходное сообщение: {send}')\n",
        "\n",
        "    receive = send @ G % 2\n",
        "    print(f'Отправленное сообщение {receive}')\n",
        "\n",
        "    error = np.zeros(receive.shape[0], dtype=int)\n",
        "    error_indices = random.sample(range(receive.shape[0]), error_count)\n",
        "    for index in error_indices:\n",
        "        error[index] = 1\n",
        "    print(f'Ошибка: {error}')\n",
        "\n",
        "    receive = (receive + error) % 2\n",
        "    print(f'Сообщение с ошибкой {receive}')\n",
        "\n",
        "    error = get_error(receive, H, B)\n",
        "    if error is None:\n",
        "        print('Ошибка обнаружена, нельзя исправить')\n",
        "        return\n",
        "\n",
        "    message = (receive + error) % 2\n",
        "    print(f'Исправленное отправленное сообщение: {message}')\n",
        "\n",
        "    receive = send @ G % 2\n",
        "    if not np.array_equal(receive, message):\n",
        "        print('Сообщение было декодировано с ошибкой')"
      ],
      "metadata": {
        "id": "3qbX95R_0pdO"
      },
      "execution_count": 6,
      "outputs": []
    },
    {
      "cell_type": "markdown",
      "source": [
        "Однократная ошибка"
      ],
      "metadata": {
        "id": "Cu4MlzsX0syS"
      }
    },
    {
      "cell_type": "code",
      "source": [
        "send = np.array([1, 0, 0, 1, 1, 0, 0, 0, 1, 0, 1, 0])\n",
        "set_error(send, 1, G_matrix, H_matrix, B)"
      ],
      "metadata": {
        "colab": {
          "base_uri": "https://localhost:8080/"
        },
        "id": "b2ky72nq0tsY",
        "outputId": "8b40e698-4d06-4e64-9096-019ede5a0d15"
      },
      "execution_count": 7,
      "outputs": [
        {
          "output_type": "stream",
          "name": "stdout",
          "text": [
            "Исходное сообщение: [1 0 0 1 1 0 0 0 1 0 1 0]\n",
            "Отправленное сообщение [1 0 0 1 1 0 0 0 1 0 1 0 1 1 0 0 1 1 1 0 1 0 0 1]\n",
            "Ошибка: [0 0 0 0 0 0 0 0 0 0 0 0 0 0 0 0 0 1 0 0 0 0 0 0]\n",
            "Сообщение с ошибкой [1 0 0 1 1 0 0 0 1 0 1 0 1 1 0 0 1 0 1 0 1 0 0 1]\n",
            "Исправленное отправленное сообщение: [1 0 0 1 1 0 0 0 1 0 1 0 1 1 0 0 1 1 1 0 1 0 0 1]\n"
          ]
        }
      ]
    },
    {
      "cell_type": "markdown",
      "source": [
        "Двукратная ошибка"
      ],
      "metadata": {
        "id": "fx2hragl0xFM"
      }
    },
    {
      "cell_type": "code",
      "source": [
        "set_error(send, 2, G_matrix, H_matrix, B)"
      ],
      "metadata": {
        "colab": {
          "base_uri": "https://localhost:8080/"
        },
        "id": "kNf0AuF90wok",
        "outputId": "3349ec2b-b9f5-4b4e-8560-c55060f47328"
      },
      "execution_count": 8,
      "outputs": [
        {
          "output_type": "stream",
          "name": "stdout",
          "text": [
            "Исходное сообщение: [1 0 0 1 1 0 0 0 1 0 1 0]\n",
            "Отправленное сообщение [1 0 0 1 1 0 0 0 1 0 1 0 1 1 0 0 1 1 1 0 1 0 0 1]\n",
            "Ошибка: [0 0 0 0 0 0 0 0 0 0 0 0 0 0 0 1 0 1 0 0 0 0 0 0]\n",
            "Сообщение с ошибкой [1 0 0 1 1 0 0 0 1 0 1 0 1 1 0 1 1 0 1 0 1 0 0 1]\n",
            "Исправленное отправленное сообщение: [1 0 0 1 1 0 0 0 1 0 1 0 1 1 0 0 1 1 1 0 1 0 0 1]\n"
          ]
        }
      ]
    },
    {
      "cell_type": "markdown",
      "source": [
        "Трехкратная ошибка"
      ],
      "metadata": {
        "id": "2nAWOdyE02VF"
      }
    },
    {
      "cell_type": "code",
      "source": [
        "set_error(send, 3, G_matrix, H_matrix, B)"
      ],
      "metadata": {
        "colab": {
          "base_uri": "https://localhost:8080/"
        },
        "id": "Alw0eZsw04Xc",
        "outputId": "281057dd-89be-49f7-d186-b784db1300e1"
      },
      "execution_count": 9,
      "outputs": [
        {
          "output_type": "stream",
          "name": "stdout",
          "text": [
            "Исходное сообщение: [1 0 0 1 1 0 0 0 1 0 1 0]\n",
            "Отправленное сообщение [1 0 0 1 1 0 0 0 1 0 1 0 1 1 0 0 1 1 1 0 1 0 0 1]\n",
            "Ошибка: [0 0 0 0 0 0 0 0 0 1 0 0 1 0 1 0 0 0 0 0 0 0 0 0]\n",
            "Сообщение с ошибкой [1 0 0 1 1 0 0 0 1 1 1 0 0 1 1 0 1 1 1 0 1 0 0 1]\n",
            "Исправленное отправленное сообщение: [1 0 0 1 1 0 0 0 1 0 1 0 1 1 0 0 1 1 1 0 1 0 0 1]\n"
          ]
        }
      ]
    },
    {
      "cell_type": "markdown",
      "source": [
        "Четырёхкратная ошибка"
      ],
      "metadata": {
        "id": "HIGL3Coj06Oj"
      }
    },
    {
      "cell_type": "code",
      "source": [
        "set_error(send, 4, G_matrix, H_matrix, B)"
      ],
      "metadata": {
        "colab": {
          "base_uri": "https://localhost:8080/"
        },
        "id": "E86_pbSM08Nb",
        "outputId": "75b119f6-7c11-4d34-b5b7-fefffa33e022"
      },
      "execution_count": 10,
      "outputs": [
        {
          "output_type": "stream",
          "name": "stdout",
          "text": [
            "Исходное сообщение: [1 0 0 1 1 0 0 0 1 0 1 0]\n",
            "Отправленное сообщение [1 0 0 1 1 0 0 0 1 0 1 0 1 1 0 0 1 1 1 0 1 0 0 1]\n",
            "Ошибка: [1 0 0 0 1 0 1 0 0 0 0 0 0 0 0 0 0 0 0 1 0 0 0 0]\n",
            "Сообщение с ошибкой [0 0 0 1 0 0 1 0 1 0 1 0 1 1 0 0 1 1 1 1 1 0 0 1]\n",
            "Ошибка обнаружена, нельзя исправить\n"
          ]
        }
      ]
    },
    {
      "cell_type": "markdown",
      "source": [
        "## 4.3 Написать функцию формирования порождающей и проверочных матриц кода Рида-Маллера 𝑅𝑀(𝑟, 𝑚) на основе параметров 𝑟 и 𝑚."
      ],
      "metadata": {
        "id": "lg4YQwv7zawm"
      }
    },
    {
      "cell_type": "code",
      "source": [
        "def reed_muller_matrix(r, m):\n",
        "    if r == 0:\n",
        "        return np.ones((1, 2 ** m), dtype=int)\n",
        "\n",
        "    if r == m:\n",
        "        G_m = reed_muller_matrix(m - 1, m)\n",
        "        bottom_row = np.zeros((1, 2 ** m), dtype=int)\n",
        "        bottom_row[0, -1] = 1\n",
        "        return np.vstack([G_m, bottom_row])\n",
        "\n",
        "    G_r_m = reed_muller_matrix(r, m - 1)\n",
        "    G_r_m_1 = reed_muller_matrix(r - 1, m - 1)\n",
        "\n",
        "    top = np.hstack([G_r_m, G_r_m])\n",
        "    bottom = np.hstack([np.zeros((G_r_m_1.shape[0], G_r_m_1.shape[1]), dtype=int), G_r_m_1])\n",
        "\n",
        "    return np.vstack([top, bottom])"
      ],
      "metadata": {
        "id": "aY0ei5l41Ach"
      },
      "execution_count": 11,
      "outputs": []
    },
    {
      "cell_type": "markdown",
      "source": [
        "## 4.4. Провести исследование кода Рида-Маллера 𝑅𝑀(1,3) для одно- и двукратных ошибок."
      ],
      "metadata": {
        "id": "hdkpnYanzcqT"
      }
    },
    {
      "cell_type": "code",
      "source": [
        "G = reed_muller_matrix(1, 3)\n",
        "G"
      ],
      "metadata": {
        "colab": {
          "base_uri": "https://localhost:8080/"
        },
        "id": "J_xnKgIU1Dl3",
        "outputId": "ba538669-2fd0-42e2-ee16-bc77733a875a"
      },
      "execution_count": 12,
      "outputs": [
        {
          "output_type": "execute_result",
          "data": {
            "text/plain": [
              "array([[1, 1, 1, 1, 1, 1, 1, 1],\n",
              "       [0, 1, 0, 1, 0, 1, 0, 1],\n",
              "       [0, 0, 1, 1, 0, 0, 1, 1],\n",
              "       [0, 0, 0, 0, 1, 1, 1, 1]])"
            ]
          },
          "metadata": {},
          "execution_count": 12
        }
      ]
    },
    {
      "cell_type": "code",
      "source": [
        "def kronecker(A, B):\n",
        "    rows_A, cols_A = A.shape\n",
        "    rows_B, cols_B = B.shape\n",
        "\n",
        "    result = np.zeros((rows_A * rows_B, cols_A * cols_B), dtype=A.dtype)\n",
        "    for i in range(rows_A):\n",
        "        for j in range(cols_A):\n",
        "            result[i * rows_B:(i + 1) * rows_B, j * cols_B:(j + 1) * cols_B] = A[i, j] * B\n",
        "    return result"
      ],
      "metadata": {
        "id": "nNKvSRi71FuR"
      },
      "execution_count": 13,
      "outputs": []
    },
    {
      "cell_type": "code",
      "source": [
        "def Hmi_matrix(H, m, i):\n",
        "    matrix = np.eye(2 ** (m - i), dtype=int)\n",
        "    matrix = kronecker(matrix, H)\n",
        "    matrix = kronecker(matrix, np.eye(2 ** (i - 1)))\n",
        "    return matrix"
      ],
      "metadata": {
        "id": "bXl0fhH31Hkq"
      },
      "execution_count": 14,
      "outputs": []
    },
    {
      "cell_type": "code",
      "source": [
        "def set_error_RM(send, errors_count, G, m):\n",
        "    print(f'Исходное сообщение: {send}')\n",
        "\n",
        "    receive = send @ G % 2\n",
        "    print(f'Отправленное сообщение: {receive}')\n",
        "\n",
        "    error = np.zeros(receive.shape[0], dtype=int)\n",
        "    error_indices = random.sample(range(receive.shape[0]), errors_count)\n",
        "    for index in error_indices:\n",
        "        error[index] = 1\n",
        "    print(f'Допущенная ошибка: {error}')\n",
        "\n",
        "    receive = (receive + error) % 2\n",
        "    print(f'Сообщение с ошибкой: {receive}')\n",
        "\n",
        "    for i in range(len(receive)):\n",
        "        if receive[i] == 0:\n",
        "            receive[i] = -1\n",
        "\n",
        "    w_array = []\n",
        "    H = np.array([[1, 1], [1, -1]])\n",
        "    w_array.append(receive @ Hmi_matrix(H, m, 1))\n",
        "    for i in range(2, m + 1):\n",
        "        w_array.append(w_array[-1] @ Hmi_matrix(H, m, i))\n",
        "\n",
        "    maximum = w_array[0][0]\n",
        "    index = -1\n",
        "    for i in range(len(w_array)):\n",
        "        for j in range(len(w_array[i])):\n",
        "            if abs(w_array[i][j]) > abs(maximum):\n",
        "                index = j\n",
        "                maximum = w_array[i][j]\n",
        "\n",
        "    counter = 0\n",
        "    for i in range(len(w_array)):\n",
        "        for j in range(len(w_array[i])):\n",
        "            if abs(w_array[i][j]) == abs(maximum):\n",
        "                counter += 1\n",
        "            if counter > 1:\n",
        "                print('Невозможно исправить ошибку')\n",
        "                return\n",
        "\n",
        "    message = list(map(int, list(('{' + f'0:0{m}b' + '}').format(index))))\n",
        "    message.append(1 if maximum > 0 else 0)\n",
        "    print(f'Исправленное сообщение: {np.array(message[::-1])}')\n",
        "\n",
        "    if not np.array_equal(send, message):\n",
        "        print('Сообщение было декодировано с ошибкой')"
      ],
      "metadata": {
        "id": "XKNrbqe61J6f"
      },
      "execution_count": 15,
      "outputs": []
    },
    {
      "cell_type": "markdown",
      "source": [
        "Однократная ошибка"
      ],
      "metadata": {
        "id": "Lr4Zf76e13EI"
      }
    },
    {
      "cell_type": "code",
      "source": [
        "m = 3\n",
        "send = np.array([1, 0, 0, 1])\n",
        "set_error_RM(send, 1, G, m)"
      ],
      "metadata": {
        "colab": {
          "base_uri": "https://localhost:8080/"
        },
        "id": "gd5-3MDY14gT",
        "outputId": "62d3d052-3c18-45ac-deb2-9040bad5f8eb"
      },
      "execution_count": 16,
      "outputs": [
        {
          "output_type": "stream",
          "name": "stdout",
          "text": [
            "Исходное сообщение: [1 0 0 1]\n",
            "Отправленное сообщение: [1 1 1 1 0 0 0 0]\n",
            "Допущенная ошибка: [0 0 0 0 1 0 0 0]\n",
            "Сообщение с ошибкой: [1 1 1 1 1 0 0 0]\n",
            "Исправленное сообщение: [1 0 0 1]\n"
          ]
        }
      ]
    },
    {
      "cell_type": "markdown",
      "source": [
        "Двукратная ошибка"
      ],
      "metadata": {
        "id": "Eu8gJ1T116P5"
      }
    },
    {
      "cell_type": "code",
      "source": [
        "set_error_RM(send, 2, G, m)"
      ],
      "metadata": {
        "colab": {
          "base_uri": "https://localhost:8080/"
        },
        "id": "4oDMBIEQ18ET",
        "outputId": "cb40d013-44b0-493e-f748-6c64cfbfeb78"
      },
      "execution_count": 17,
      "outputs": [
        {
          "output_type": "stream",
          "name": "stdout",
          "text": [
            "Исходное сообщение: [1 0 0 1]\n",
            "Отправленное сообщение: [1 1 1 1 0 0 0 0]\n",
            "Допущенная ошибка: [0 1 0 0 0 1 0 0]\n",
            "Сообщение с ошибкой: [1 0 1 1 0 1 0 0]\n",
            "Невозможно исправить ошибку\n"
          ]
        }
      ]
    },
    {
      "cell_type": "markdown",
      "source": [
        "## 4.5. Провести исследование кода Рида-Маллера 𝑅𝑀(1,4) для одно-, двух-, трёх- и четырёхкратных ошибок."
      ],
      "metadata": {
        "id": "DR4j6Oa8ziHI"
      }
    },
    {
      "cell_type": "code",
      "execution_count": 18,
      "metadata": {
        "colab": {
          "base_uri": "https://localhost:8080/"
        },
        "id": "ok8qJ1ptzN3I",
        "outputId": "b8f3aeda-9fd1-49a2-d74c-eb358b88fc2a"
      },
      "outputs": [
        {
          "output_type": "execute_result",
          "data": {
            "text/plain": [
              "array([[1, 1, 1, 1, 1, 1, 1, 1, 1, 1, 1, 1, 1, 1, 1, 1],\n",
              "       [0, 1, 0, 1, 0, 1, 0, 1, 0, 1, 0, 1, 0, 1, 0, 1],\n",
              "       [0, 0, 1, 1, 0, 0, 1, 1, 0, 0, 1, 1, 0, 0, 1, 1],\n",
              "       [0, 0, 0, 0, 1, 1, 1, 1, 0, 0, 0, 0, 1, 1, 1, 1],\n",
              "       [0, 0, 0, 0, 0, 0, 0, 0, 1, 1, 1, 1, 1, 1, 1, 1]])"
            ]
          },
          "metadata": {},
          "execution_count": 18
        }
      ],
      "source": [
        "G = reed_muller_matrix(1, 4)\n",
        "G"
      ]
    },
    {
      "cell_type": "markdown",
      "source": [
        "Однократная ошибка"
      ],
      "metadata": {
        "id": "2OLglfth2B0n"
      }
    },
    {
      "cell_type": "code",
      "source": [
        "m = 4\n",
        "send = np.array([1, 0, 1, 0, 1])\n",
        "set_error_RM(send, 1, G, m)"
      ],
      "metadata": {
        "colab": {
          "base_uri": "https://localhost:8080/"
        },
        "id": "ztx4XSWk2DsG",
        "outputId": "d95a5d43-e47a-4799-9fee-a9a27062088f"
      },
      "execution_count": 19,
      "outputs": [
        {
          "output_type": "stream",
          "name": "stdout",
          "text": [
            "Исходное сообщение: [1 0 1 0 1]\n",
            "Отправленное сообщение: [1 1 0 0 1 1 0 0 0 0 1 1 0 0 1 1]\n",
            "Допущенная ошибка: [0 0 1 0 0 0 0 0 0 0 0 0 0 0 0 0]\n",
            "Сообщение с ошибкой: [1 1 1 0 1 1 0 0 0 0 1 1 0 0 1 1]\n",
            "Исправленное сообщение: [1 0 1 0 1]\n"
          ]
        }
      ]
    },
    {
      "cell_type": "markdown",
      "source": [
        "Двукратная ошибка"
      ],
      "metadata": {
        "id": "aw_upXIV2FPT"
      }
    },
    {
      "cell_type": "code",
      "source": [
        "set_error_RM(send, 2, G, m)"
      ],
      "metadata": {
        "colab": {
          "base_uri": "https://localhost:8080/"
        },
        "id": "j7qawEq82F3w",
        "outputId": "666410f0-518b-4115-879c-ecdea6a35e8c"
      },
      "execution_count": 20,
      "outputs": [
        {
          "output_type": "stream",
          "name": "stdout",
          "text": [
            "Исходное сообщение: [1 0 1 0 1]\n",
            "Отправленное сообщение: [1 1 0 0 1 1 0 0 0 0 1 1 0 0 1 1]\n",
            "Допущенная ошибка: [1 0 0 0 0 0 0 1 0 0 0 0 0 0 0 0]\n",
            "Сообщение с ошибкой: [0 1 0 0 1 1 0 1 0 0 1 1 0 0 1 1]\n",
            "Исправленное сообщение: [1 0 1 0 1]\n"
          ]
        }
      ]
    },
    {
      "cell_type": "markdown",
      "source": [
        "Трёхкратная ошибка"
      ],
      "metadata": {
        "id": "llnBb7Fm2KbM"
      }
    },
    {
      "cell_type": "code",
      "source": [
        "set_error_RM(send, 3, G, m)"
      ],
      "metadata": {
        "colab": {
          "base_uri": "https://localhost:8080/"
        },
        "id": "EtI4_ZEh2H-D",
        "outputId": "9f8ce4e5-eee0-46ea-d23a-885cfd9e2e5f"
      },
      "execution_count": 21,
      "outputs": [
        {
          "output_type": "stream",
          "name": "stdout",
          "text": [
            "Исходное сообщение: [1 0 1 0 1]\n",
            "Отправленное сообщение: [1 1 0 0 1 1 0 0 0 0 1 1 0 0 1 1]\n",
            "Допущенная ошибка: [0 0 0 0 0 0 0 0 1 1 1 0 0 0 0 0]\n",
            "Сообщение с ошибкой: [1 1 0 0 1 1 0 0 1 1 0 1 0 0 1 1]\n",
            "Исправленное сообщение: [1 0 1 0 1]\n"
          ]
        }
      ]
    },
    {
      "cell_type": "markdown",
      "source": [
        "Четырёхкратная ошибка"
      ],
      "metadata": {
        "id": "59nlVWrw2MnH"
      }
    },
    {
      "cell_type": "code",
      "source": [
        "set_error_RM(send, 4, G, m)"
      ],
      "metadata": {
        "colab": {
          "base_uri": "https://localhost:8080/"
        },
        "id": "ctSMwmWa2NkW",
        "outputId": "357ea26f-35ee-4957-a68c-01390965a1dd"
      },
      "execution_count": 22,
      "outputs": [
        {
          "output_type": "stream",
          "name": "stdout",
          "text": [
            "Исходное сообщение: [1 0 1 0 1]\n",
            "Отправленное сообщение: [1 1 0 0 1 1 0 0 0 0 1 1 0 0 1 1]\n",
            "Допущенная ошибка: [0 1 0 0 0 0 0 0 0 1 0 0 1 0 1 0]\n",
            "Сообщение с ошибкой: [1 0 0 0 1 1 0 0 0 1 1 1 1 0 0 1]\n",
            "Невозможно исправить ошибку\n"
          ]
        }
      ]
    }
  ]
}